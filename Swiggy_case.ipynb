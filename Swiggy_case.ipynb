{
 "cells": [
  {
   "cell_type": "markdown",
   "metadata": {},
   "source": [
    "## This jupyter notebook contains deep dive in the data provided by Swiggy to understand the data, customers and to predict individual customer's spend in last 7 days."
   ]
  },
  {
   "cell_type": "code",
   "execution_count": 1,
   "metadata": {},
   "outputs": [
    {
     "name": "stderr",
     "output_type": "stream",
     "text": [
      "C:\\Users\\Sourish\\Anaconda3\\lib\\site-packages\\sklearn\\cross_validation.py:41: DeprecationWarning: This module was deprecated in version 0.18 in favor of the model_selection module into which all the refactored classes and functions are moved. Also note that the interface of the new CV iterators are different from that of this module. This module will be removed in 0.20.\n",
      "  \"This module will be removed in 0.20.\", DeprecationWarning)\n"
     ]
    }
   ],
   "source": [
    "import os\n",
    "import numpy as np\n",
    "from numpy import genfromtxt\n",
    "import pandas as pd\n",
    "import tqdm\n",
    "import cv2\n",
    "from scipy.spatial import distance\n",
    "from PIL import Image\n",
    "from sklearn.preprocessing import OneHotEncoder,LabelEncoder\n",
    "from sklearn.cross_validation import train_test_split\n",
    "import matplotlib.pyplot as plt\n",
    "import plotly.plotly as py\n",
    "import plotly.graph_objs as go\n",
    "from plotly.tools import FigureFactory as FF\n",
    "import scipy\n",
    "import datetime\n",
    "import seaborn as sns"
   ]
  },
  {
   "cell_type": "code",
   "execution_count": 2,
   "metadata": {},
   "outputs": [
    {
     "name": "stdout",
     "output_type": "stream",
     "text": [
      "Index(['customer_id', 'First Time', 'Recent Time', '# of Orders',\n",
      "       '# of Orders in last 7 days', '# of Orders in last 4 weeks', 'Amount',\n",
      "       'Amount in last 7 days', 'Amount in last 4 weeks',\n",
      "       'Avg_DistanceFromResturant', 'Avg_DeliveryTime'],\n",
      "      dtype='object')\n",
      "(10000, 11)\n",
      "customer_id                      int64\n",
      "First Time                      object\n",
      "Recent Time                     object\n",
      "# of Orders                      int64\n",
      "# of Orders in last 7 days     float64\n",
      "# of Orders in last 4 weeks    float64\n",
      "Amount                           int64\n",
      "Amount in last 7 days            int64\n",
      "Amount in last 4 weeks           int64\n",
      "Avg_DistanceFromResturant      float64\n",
      "Avg_DeliveryTime                 int64\n",
      "dtype: object\n"
     ]
    },
    {
     "data": {
      "text/html": [
       "<div>\n",
       "<style scoped>\n",
       "    .dataframe tbody tr th:only-of-type {\n",
       "        vertical-align: middle;\n",
       "    }\n",
       "\n",
       "    .dataframe tbody tr th {\n",
       "        vertical-align: top;\n",
       "    }\n",
       "\n",
       "    .dataframe thead th {\n",
       "        text-align: right;\n",
       "    }\n",
       "</style>\n",
       "<table border=\"1\" class=\"dataframe\">\n",
       "  <thead>\n",
       "    <tr style=\"text-align: right;\">\n",
       "      <th></th>\n",
       "      <th>customer_id</th>\n",
       "      <th>First Time</th>\n",
       "      <th>Recent Time</th>\n",
       "      <th># of Orders</th>\n",
       "      <th># of Orders in last 7 days</th>\n",
       "      <th># of Orders in last 4 weeks</th>\n",
       "      <th>Amount</th>\n",
       "      <th>Amount in last 7 days</th>\n",
       "      <th>Amount in last 4 weeks</th>\n",
       "      <th>Avg_DistanceFromResturant</th>\n",
       "      <th>Avg_DeliveryTime</th>\n",
       "    </tr>\n",
       "  </thead>\n",
       "  <tbody>\n",
       "    <tr>\n",
       "      <th>0</th>\n",
       "      <td>28</td>\n",
       "      <td>11/22/2015 16:14</td>\n",
       "      <td>12/13/2015 1:37</td>\n",
       "      <td>1</td>\n",
       "      <td>NaN</td>\n",
       "      <td>1.0</td>\n",
       "      <td>558</td>\n",
       "      <td>0</td>\n",
       "      <td>558</td>\n",
       "      <td>0.8</td>\n",
       "      <td>33</td>\n",
       "    </tr>\n",
       "    <tr>\n",
       "      <th>1</th>\n",
       "      <td>122</td>\n",
       "      <td>7/20/2015 3:38</td>\n",
       "      <td>11/15/2015 16:28</td>\n",
       "      <td>2</td>\n",
       "      <td>NaN</td>\n",
       "      <td>NaN</td>\n",
       "      <td>2685</td>\n",
       "      <td>0</td>\n",
       "      <td>0</td>\n",
       "      <td>2.6</td>\n",
       "      <td>24</td>\n",
       "    </tr>\n",
       "    <tr>\n",
       "      <th>2</th>\n",
       "      <td>152</td>\n",
       "      <td>9/10/2015 4:26</td>\n",
       "      <td>8/26/2015 7:14</td>\n",
       "      <td>12</td>\n",
       "      <td>2.0</td>\n",
       "      <td>5.0</td>\n",
       "      <td>2608</td>\n",
       "      <td>382</td>\n",
       "      <td>1286</td>\n",
       "      <td>2.6</td>\n",
       "      <td>31</td>\n",
       "    </tr>\n",
       "    <tr>\n",
       "      <th>3</th>\n",
       "      <td>173</td>\n",
       "      <td>8/4/2015 10:14</td>\n",
       "      <td>9/11/2015 21:47</td>\n",
       "      <td>9</td>\n",
       "      <td>NaN</td>\n",
       "      <td>NaN</td>\n",
       "      <td>1634</td>\n",
       "      <td>0</td>\n",
       "      <td>0</td>\n",
       "      <td>1.2</td>\n",
       "      <td>45</td>\n",
       "    </tr>\n",
       "    <tr>\n",
       "      <th>4</th>\n",
       "      <td>204</td>\n",
       "      <td>8/14/2015 19:23</td>\n",
       "      <td>11/14/2015 17:56</td>\n",
       "      <td>2</td>\n",
       "      <td>NaN</td>\n",
       "      <td>NaN</td>\n",
       "      <td>562</td>\n",
       "      <td>0</td>\n",
       "      <td>0</td>\n",
       "      <td>2.0</td>\n",
       "      <td>53</td>\n",
       "    </tr>\n",
       "  </tbody>\n",
       "</table>\n",
       "</div>"
      ],
      "text/plain": [
       "   customer_id        First Time       Recent Time  # of Orders  \\\n",
       "0           28  11/22/2015 16:14   12/13/2015 1:37            1   \n",
       "1          122    7/20/2015 3:38  11/15/2015 16:28            2   \n",
       "2          152    9/10/2015 4:26    8/26/2015 7:14           12   \n",
       "3          173    8/4/2015 10:14   9/11/2015 21:47            9   \n",
       "4          204   8/14/2015 19:23  11/14/2015 17:56            2   \n",
       "\n",
       "   # of Orders in last 7 days  # of Orders in last 4 weeks  Amount  \\\n",
       "0                         NaN                          1.0     558   \n",
       "1                         NaN                          NaN    2685   \n",
       "2                         2.0                          5.0    2608   \n",
       "3                         NaN                          NaN    1634   \n",
       "4                         NaN                          NaN     562   \n",
       "\n",
       "   Amount in last 7 days  Amount in last 4 weeks  Avg_DistanceFromResturant  \\\n",
       "0                      0                     558                        0.8   \n",
       "1                      0                       0                        2.6   \n",
       "2                    382                    1286                        2.6   \n",
       "3                      0                       0                        1.2   \n",
       "4                      0                       0                        2.0   \n",
       "\n",
       "   Avg_DeliveryTime  \n",
       "0                33  \n",
       "1                24  \n",
       "2                31  \n",
       "3                45  \n",
       "4                53  "
      ]
     },
     "execution_count": 2,
     "metadata": {},
     "output_type": "execute_result"
    }
   ],
   "source": [
    "#sneak peek of data\n",
    "\n",
    "os.chdir('D:/data_science/swiggy')\n",
    "data = pd.read_csv('SampleAssessment.csv')\n",
    "print(data.columns)\n",
    "print(data.shape)\n",
    "print(data.dtypes)\n",
    "data.head(5)"
   ]
  },
  {
   "cell_type": "code",
   "execution_count": 442,
   "metadata": {},
   "outputs": [
    {
     "name": "stdout",
     "output_type": "stream",
     "text": [
      "                                0  percentage_missing\n",
      "customer_id                     0                0.00\n",
      "First Time                      0                0.00\n",
      "Recent Time                     0                0.00\n",
      "# of Orders                     0                0.00\n",
      "# of Orders in last 7 days   8077               80.77\n",
      "# of Orders in last 4 weeks  5659               56.59\n",
      "Amount                          0                0.00\n",
      "Amount in last 7 days           0                0.00\n",
      "Amount in last 4 weeks          0                0.00\n",
      "Avg_DistanceFromResturant       0                0.00\n",
      "Avg_DeliveryTime                0                0.00\n"
     ]
    }
   ],
   "source": [
    "#Missing value check\n",
    "missing = pd.DataFrame(data.apply(lambda x: np.sum(x.isnull(), axis=0)))\n",
    "missing['percentage_missing'] = (missing.iloc[:,0]/data.shape[0])*100\n",
    "print(missing)"
   ]
  },
  {
   "cell_type": "markdown",
   "metadata": {},
   "source": [
    "### There are significant proportion of missing values for # of Orders in last 7 days,# of Orders in last 4 weeks. Most likely it is because of the customers didn't order. We can validate our hypothesis and accordingly apply missing value treatment - replace NA as zero."
   ]
  },
  {
   "cell_type": "code",
   "execution_count": 444,
   "metadata": {},
   "outputs": [
    {
     "name": "stdout",
     "output_type": "stream",
     "text": [
      "sum of order amount in last 7 days for customers,having missing value 0\n",
      "sum of order amount in last 4 weeks for customers,having missing value 0\n",
      "                             0  percentage_missing\n",
      "customer_id                  0                 0.0\n",
      "First Time                   0                 0.0\n",
      "Recent Time                  0                 0.0\n",
      "# of Orders                  0                 0.0\n",
      "# of Orders in last 7 days   0                 0.0\n",
      "# of Orders in last 4 weeks  0                 0.0\n",
      "Amount                       0                 0.0\n",
      "Amount in last 7 days        0                 0.0\n",
      "Amount in last 4 weeks       0                 0.0\n",
      "Avg_DistanceFromResturant    0                 0.0\n",
      "Avg_DeliveryTime             0                 0.0\n"
     ]
    }
   ],
   "source": [
    "#Validation\n",
    "print('sum of order amount in last 7 days for customers,having missing value', np.sum(data['Amount in last 7 days'][data['# of Orders in last 7 days'].isna()]>0))\n",
    "print('sum of order amount in last 4 weeks for customers,having missing value',np.sum(data['Amount in last 4 weeks'][data['# of Orders in last 4 weeks'].isna()]>0))\n",
    "\n",
    "#Amount for these missing values are zero, so it's logical to replace missing values as 0\n",
    "data['# of Orders in last 7 days'].fillna(0, inplace = True)\n",
    "data['# of Orders in last 4 weeks'].fillna(0, inplace = True)\n",
    "missing = pd.DataFrame(data.apply(lambda x: np.sum(x.isnull(), axis=0)))\n",
    "missing['percentage_missing'] = (missing.iloc[:,0]/data.shape[0])*100\n",
    "print(missing)"
   ]
  },
  {
   "cell_type": "markdown",
   "metadata": {},
   "source": [
    "### We will do some essential feature engineering to gather customer insights and for our predictive model and defining components of end prediction metric(customer's spend in last 7 days) to create following broad type variables. The name and logic of these created features are self-explanatory\n",
    "\n",
    "##### a) How long the customer is with Swiggy('cust_age')\n",
    "##### b) Amount per order('amount_per_order','amount_per_order_7days' , 'amount_per_order_4weeks','amount_last_3weeks')\n",
    "##### c) Order_per_week('order_per_week_overall', 'order_per_week_4weeks','order_per_week_3weeks')\n",
    "##### d) Indicator vaiable whether the customer ordered or not('order_flag_4weeks','order_flag_3weeks') \n",
    "##### e) Some velocity variable-order pattern change(if any) in recent time w.r.t. overall('recent_change_amount_per_order')"
   ]
  },
  {
   "cell_type": "code",
   "execution_count": 457,
   "metadata": {},
   "outputs": [
    {
     "name": "stdout",
     "output_type": "stream",
     "text": [
      "   customer_id          First Time       Recent Time  # of Orders  \\\n",
      "0           28 2015-11-22 16:14:00   12/13/2015 1:37            1   \n",
      "1          122 2015-07-20 03:38:00  11/15/2015 16:28            2   \n",
      "2          152 2015-09-10 04:26:00    8/26/2015 7:14           12   \n",
      "3          173 2015-08-04 10:14:00   9/11/2015 21:47            9   \n",
      "4          204 2015-08-14 19:23:00  11/14/2015 17:56            2   \n",
      "\n",
      "   # of Orders in last 7 days  # of Orders in last 4 weeks  Amount  \\\n",
      "0                         0.0                          1.0     558   \n",
      "1                         0.0                          0.0    2685   \n",
      "2                         2.0                          5.0    2608   \n",
      "3                         0.0                          0.0    1634   \n",
      "4                         0.0                          0.0     562   \n",
      "\n",
      "   Amount in last 7 days  Amount in last 4 weeks  Avg_DistanceFromResturant  \\\n",
      "0                      0                     558                        0.8   \n",
      "1                      0                       0                        2.6   \n",
      "2                    382                    1286                        2.6   \n",
      "3                      0                       0                        1.2   \n",
      "4                      0                       0                        2.0   \n",
      "\n",
      "           ...           recent_change_amount_per_order  order_flag_4weeks  \\\n",
      "0          ...                            -5.580000e-07                  1   \n",
      "1          ...                            -1.342500e+03                  0   \n",
      "2          ...                             3.986667e+01                  1   \n",
      "3          ...                            -1.815556e+02                  0   \n",
      "4          ...                            -2.810000e+02                  0   \n",
      "\n",
      "   amount_before_lastweek  order_before_lastweek  amount_last_3weeks  \\\n",
      "0                     558                    1.0                 558   \n",
      "1                    2685                    2.0                   0   \n",
      "2                    2226                   10.0                 904   \n",
      "3                    1634                    9.0                   0   \n",
      "4                     562                    2.0                   0   \n",
      "\n",
      "   order_last_3weeks  amount_per_order_3weeks  order_per_week_3weeks  \\\n",
      "0                1.0               557.999999               0.333333   \n",
      "1                0.0                 0.000000               0.000000   \n",
      "2                3.0               301.333333               1.000000   \n",
      "3                0.0                 0.000000               0.000000   \n",
      "4                0.0                 0.000000               0.000000   \n",
      "\n",
      "   order_flag_3weeks  orderflag_last_7days  \n",
      "0                  1                     0  \n",
      "1                  0                     0  \n",
      "2                  1                     1  \n",
      "3                  0                     0  \n",
      "4                  0                     0  \n",
      "\n",
      "[5 rows x 27 columns]\n",
      "                                0  percentage_missing\n",
      "customer_id                     0                 0.0\n",
      "First Time                      0                 0.0\n",
      "Recent Time                     0                 0.0\n",
      "# of Orders                     0                 0.0\n",
      "# of Orders in last 7 days      0                 0.0\n",
      "# of Orders in last 4 weeks     0                 0.0\n",
      "Amount                          0                 0.0\n",
      "Amount in last 7 days           0                 0.0\n",
      "Amount in last 4 weeks          0                 0.0\n",
      "Avg_DistanceFromResturant       0                 0.0\n",
      "Avg_DeliveryTime                0                 0.0\n",
      "cust_age                        0                 0.0\n",
      "amount_per_order                0                 0.0\n",
      "order_per_week_overall          0                 0.0\n",
      "amount_per_order_7days          0                 0.0\n",
      "amount_per_order_4weeks         0                 0.0\n",
      "order_per_week_4weeks           0                 0.0\n",
      "recent_change_amount_per_order  0                 0.0\n",
      "order_flag_4weeks               0                 0.0\n",
      "amount_before_lastweek          0                 0.0\n",
      "order_before_lastweek           0                 0.0\n",
      "amount_last_3weeks              0                 0.0\n",
      "order_last_3weeks               0                 0.0\n",
      "amount_per_order_3weeks         0                 0.0\n",
      "order_per_week_3weeks           0                 0.0\n",
      "order_flag_3weeks               0                 0.0\n",
      "orderflag_last_7days            0                 0.0\n"
     ]
    }
   ],
   "source": [
    "#Feature engineering\n",
    "\n",
    "#Date conversion\n",
    "data['First Time'] = pd.to_datetime(data['First Time'])\n",
    "data['cust_age'] = ((pd.Timestamp(datetime.datetime.now())-pd.to_datetime(data['First Time'])).astype('<m8[D]'))/7\n",
    "data['amount_per_order'] = data['Amount']/data['# of Orders']\n",
    "data['order_per_week_overall'] = data['# of Orders']/data['cust_age']\n",
    "data['amount_per_order_7days'] = data['Amount in last 7 days']/(data['# of Orders in last 7 days'] + 10**-9)\n",
    "data['amount_per_order_4weeks'] = data['Amount in last 4 weeks']/(data['# of Orders in last 4 weeks'] + 10**-9)\n",
    "data['order_per_week_4weeks'] = (data['# of Orders in last 4 weeks'])/4\n",
    "data['recent_change_amount_per_order'] = data['amount_per_order_4weeks']-data['amount_per_order']\n",
    "data['order_flag_4weeks'] = np.where(data['# of Orders in last 4 weeks'] == 0,0,1)\n",
    "data['amount_before_lastweek'] = data['Amount']-data['Amount in last 7 days']\n",
    "data['order_before_lastweek'] = data['# of Orders']-data['# of Orders in last 7 days']\n",
    "data['amount_last_3weeks'] = data['Amount in last 4 weeks']-data['Amount in last 7 days']\n",
    "data['order_last_3weeks'] = data['# of Orders in last 4 weeks']-data['# of Orders in last 7 days']\n",
    "data['amount_per_order_3weeks'] = data['amount_last_3weeks']/(data['order_last_3weeks'] + 10**-9)\n",
    "data['order_per_week_3weeks'] = (data['order_last_3weeks'])/3\n",
    "data['order_flag_3weeks'] = np.where(data['order_last_3weeks'] == 0,0,1)\n",
    "data['orderflag_last_7days'] = np.where(data['# of Orders in last 7 days'] == 0,0,1)\n",
    "print(data.head())\n",
    "missing = pd.DataFrame(data.apply(lambda x: np.sum(x.isnull(), axis=0)))\n",
    "missing['percentage_missing'] = (missing.iloc[:,0]/data.shape[0])*100\n",
    "print(missing)"
   ]
  },
  {
   "cell_type": "markdown",
   "metadata": {},
   "source": [
    "#### We may not able to use all these derived variables in our predictive model,because of Data leakage. For example we can't use 'order_per_week_4weeks' variable to predict customer's spend in last 7 days, as Data for 4 weeks is a superset of data for 7 days.So to predict customer's spend(or other metric) in last 7 days, we can use information till previous week of in last 7 days(e.g. we can use features like 'amount_last_3weeks','order_flag_3weeks' etc., but can't use 'order_flag_4weeks'). \n",
    "\n",
    "#### However for business insight,exploratory analysis and customer segmentation we can use the data till present(till last 7 days)."
   ]
  },
  {
   "cell_type": "code",
   "execution_count": 204,
   "metadata": {},
   "outputs": [
    {
     "data": {
      "text/plain": [
       "Text(0,0.5,'Frequency')"
      ]
     },
     "execution_count": 204,
     "metadata": {},
     "output_type": "execute_result"
    },
    {
     "data": {
      "image/png": "[encoded data removed]",
      "text/plain": [
       "<Figure size 432x288 with 1 Axes>"
      ]
     },
     "metadata": {},
     "output_type": "display_data"
    }
   ],
   "source": [
    "#Business Insight\n",
    "\n",
    "#customer age\n",
    "data['cust_age'].hist(bins=50)\n",
    "# Plot formatting\n",
    "plt.title('Density Plot - weeks customer on book')\n",
    "plt.xlabel('customer_duration in week')\n",
    "plt.ylabel('Frequency')"
   ]
  },
  {
   "cell_type": "code",
   "execution_count": null,
   "metadata": {},
   "outputs": [],
   "source": []
  },
  {
   "cell_type": "markdown",
   "metadata": {},
   "source": [
    "#### Most of customers have spent similar duration with Swiggy- around 155 weeks to 180 weeks, i.e. there is not much variance in customers' age(duration)."
   ]
  },
  {
   "cell_type": "code",
   "execution_count": 161,
   "metadata": {},
   "outputs": [
    {
     "name": "stderr",
     "output_type": "stream",
     "text": [
      "C:\\Users\\Sourish\\Anaconda3\\lib\\site-packages\\statsmodels\\nonparametric\\kde.py:448: RuntimeWarning:\n",
      "\n",
      "invalid value encountered in greater\n",
      "\n",
      "C:\\Users\\Sourish\\Anaconda3\\lib\\site-packages\\statsmodels\\nonparametric\\kde.py:448: RuntimeWarning:\n",
      "\n",
      "invalid value encountered in less\n",
      "\n"
     ]
    },
    {
     "data": {
      "text/plain": [
       "<matplotlib.axes._subplots.AxesSubplot at 0x27959dd7f28>"
      ]
     },
     "execution_count": 161,
     "metadata": {},
     "output_type": "execute_result"
    },
    {
     "data": {
      "image/png": "[encoded data removed]",
      "text/plain": [
       "<Figure size 432x288 with 1 Axes>"
      ]
     },
     "metadata": {},
     "output_type": "display_data"
    }
   ],
   "source": [
    "#amount per order distribution- overall\n",
    "sns.distplot(data['amount_per_order'][data['amount_per_order']], hist = False, kde = True,rug=True,\n",
    "                 kde_kws = {'linewidth': 1.5})"
   ]
  },
  {
   "cell_type": "code",
   "execution_count": 169,
   "metadata": {},
   "outputs": [
    {
     "data": {
      "text/plain": [
       "<matplotlib.axes._subplots.AxesSubplot at 0x2796401beb8>"
      ]
     },
     "execution_count": 169,
     "metadata": {},
     "output_type": "execute_result"
    },
    {
     "data": {
      "image/png": "[encoded data removed]",
      "text/plain": [
       "<Figure size 432x288 with 1 Axes>"
      ]
     },
     "metadata": {},
     "output_type": "display_data"
    }
   ],
   "source": [
    "#no of order distribution- overall\n",
    "sns.distplot(data['# of Orders'], hist = False, kde = True,rug=True,\n",
    "                 kde_kws = {'linewidth': 1.5})"
   ]
  },
  {
   "cell_type": "code",
   "execution_count": 456,
   "metadata": {},
   "outputs": [
    {
     "data": {
      "text/plain": [
       "(array([9.837e+03, 1.380e+02, 1.600e+01, 7.000e+00, 2.000e+00, 0.000e+00,\n",
       "        0.000e+00, 0.000e+00, 0.000e+00, 0.000e+00, 0.000e+00, 0.000e+00,\n",
       "        0.000e+00, 0.000e+00, 0.000e+00, 0.000e+00, 0.000e+00, 0.000e+00,\n",
       "        0.000e+00, 0.000e+00, 0.000e+00, 0.000e+00, 0.000e+00, 0.000e+00]),\n",
       " array([0.        , 0.29166667, 0.58333333, 0.875     , 1.16666667,\n",
       "        1.45833333, 1.75      , 2.04166667, 2.33333333, 2.625     ,\n",
       "        2.91666667, 3.20833333, 3.5       , 3.79166667, 4.08333333,\n",
       "        4.375     , 4.66666667, 4.95833333, 5.25      , 5.54166667,\n",
       "        5.83333333, 6.125     , 6.41666667, 6.70833333, 7.        ]),\n",
       " <a list of 24 Patch objects>)"
      ]
     },
     "execution_count": 456,
     "metadata": {},
     "output_type": "execute_result"
    },
    {
     "data": {
      "image/png": "[encoded data removed]",
      "text/plain": [
       "<Figure size 432x288 with 1 Axes>"
      ]
     },
     "metadata": {},
     "output_type": "display_data"
    }
   ],
   "source": [
    "#no of order distribution- overall\n",
    "bins = np.linspace(0, 7, 25)\n",
    "plt.hist(data['order_per_week_overall'],bins)"
   ]
  },
  {
   "cell_type": "markdown",
   "metadata": {},
   "source": [
    "#### Average individual bill amount is with in INR 1000 and on an average most customers order(if order) mostly once in a week."
   ]
  },
  {
   "cell_type": "code",
   "execution_count": 193,
   "metadata": {},
   "outputs": [
    {
     "data": {
      "image/png": "[encoded data removed]",
      "text/plain": [
       "<Figure size 432x288 with 1 Axes>"
      ]
     },
     "metadata": {},
     "output_type": "display_data"
    }
   ],
   "source": [
    "#trend in no of orders/week in recent times\n",
    "\n",
    "bins = np.linspace(0, 7, 25)\n",
    "plt.hist([data['order_per_week_overall'], data['order_per_week_4weeks']], bins, label=['order_per_week_overall', 'order_per_week_4weeks'])\n",
    "plt.legend(loc='upper right')\n",
    "plt.show()"
   ]
  },
  {
   "cell_type": "code",
   "execution_count": null,
   "metadata": {},
   "outputs": [],
   "source": [
    "print('order is:%f:')"
   ]
  },
  {
   "cell_type": "code",
   "execution_count": 461,
   "metadata": {},
   "outputs": [
    {
     "name": "stdout",
     "output_type": "stream",
     "text": [
      "percent of customer ordered in last one month is: 43.410000 percent\n",
      "percent of customer ordered in last one week is: 19.230000 percent\n"
     ]
    },
    {
     "data": {
      "image/png": "[encoded data removed]",
      "text/plain": [
       "<Figure size 432x288 with 1 Axes>"
      ]
     },
     "metadata": {},
     "output_type": "display_data"
    }
   ],
   "source": [
    "#Distribution of order vs. no order in recent time\n",
    "\n",
    "data['order_flag_4weeks'].astype(int).plot.hist()\n",
    "print('percent of customer ordered in last one month is: %f percent' %((data['order_flag_4weeks'].value_counts()[1]/data['order_flag_4weeks'].shape[0]) * 100))\n",
    "print('percent of customer ordered in last one week is: %f percent' %((data['orderflag_last_7days'].value_counts()[1]/data['orderflag_last_7days'].shape[0]) * 100))"
   ]
  },
  {
   "cell_type": "markdown",
   "metadata": {},
   "source": [
    "#### Good news for business is that on an average there is a increase in order/week in last one month compared to the same in overall. However only 43.41% customers placed atleast one order in last one month and only 19.23% in last week. May be some marketing campaign or special offer may work for these inactive customers(approx 57%)."
   ]
  },
  {
   "cell_type": "code",
   "execution_count": 170,
   "metadata": {},
   "outputs": [
    {
     "data": {
      "text/plain": [
       "<matplotlib.axes._subplots.AxesSubplot at 0x2796e365438>"
      ]
     },
     "execution_count": 170,
     "metadata": {},
     "output_type": "execute_result"
    },
    {
     "data": {
      "image/png": "[encoded data removed]",
      "text/plain": [
       "<Figure size 432x288 with 1 Axes>"
      ]
     },
     "metadata": {},
     "output_type": "display_data"
    }
   ],
   "source": [
    "#average delivery time\n",
    "sns.distplot(data['Avg_DeliveryTime'], hist = False, kde = True,rug=False,\n",
    "                 kde_kws = {'linewidth': 1.5})"
   ]
  },
  {
   "cell_type": "code",
   "execution_count": 194,
   "metadata": {},
   "outputs": [
    {
     "data": {
      "text/plain": [
       "<matplotlib.axes._subplots.AxesSubplot at 0x27970c3bf60>"
      ]
     },
     "execution_count": 194,
     "metadata": {},
     "output_type": "execute_result"
    },
    {
     "data": {
      "image/png": "[encoded data removed]",
      "text/plain": [
       "<Figure size 432x288 with 1 Axes>"
      ]
     },
     "metadata": {},
     "output_type": "display_data"
    }
   ],
   "source": [
    "#where from they order\n",
    "sns.distplot(data['Avg_DistanceFromResturant'], hist = False, kde = True,rug=False,\n",
    "                 kde_kws = {'linewidth': 1.5})"
   ]
  },
  {
   "cell_type": "markdown",
   "metadata": {},
   "source": [
    "#### This gives us some insight about operational metrics like delivery time, restaurant inventory with Swiggy and route optimization. Mostly the waiting time for customers is eual or less than 1 hour and customers find their choice of restaurants in neighbouring areas. "
   ]
  },
  {
   "cell_type": "markdown",
   "metadata": {},
   "source": [
    "### Segmentation of customers and insights on some specific customer segments\n",
    "\n",
    "- ### *Solution*\n",
    "\n",
    "#### Kmeans clustering technique, which works in hard cluster assignment principle, is one the most popular unsupervised customer segmentation techniques in business as it is easy to interpret and Implement and less run time. There are other probabilistic(soft assignment) techniques such as GMM(Gaussian Mixture Model), which also may be worth trying. Here we will explore this through Kmeans technique. \n",
    "\n",
    "#### At the last we will provide few illustrative insights on some specific customer segments.  \n",
    "\n",
    "#### To start with Kmeans clustering It is recommended to normalize the data before clustering. We have done MinMax normalization (linear transformation of x to (x-min)/(max-min))\n"
   ]
  },
  {
   "cell_type": "code",
   "execution_count": 275,
   "metadata": {},
   "outputs": [
    {
     "data": {
      "text/html": [
       "<div>\n",
       "<style scoped>\n",
       "    .dataframe tbody tr th:only-of-type {\n",
       "        vertical-align: middle;\n",
       "    }\n",
       "\n",
       "    .dataframe tbody tr th {\n",
       "        vertical-align: top;\n",
       "    }\n",
       "\n",
       "    .dataframe thead th {\n",
       "        text-align: right;\n",
       "    }\n",
       "</style>\n",
       "<table border=\"1\" class=\"dataframe\">\n",
       "  <thead>\n",
       "    <tr style=\"text-align: right;\">\n",
       "      <th></th>\n",
       "      <th># of Orders</th>\n",
       "      <th># of Orders in last 4 weeks</th>\n",
       "      <th>Amount</th>\n",
       "      <th>Amount in last 4 weeks</th>\n",
       "      <th>Avg_DistanceFromResturant</th>\n",
       "      <th>Avg_DeliveryTime</th>\n",
       "      <th>cust_age</th>\n",
       "      <th>amount_per_order</th>\n",
       "      <th>order_per_week_overall</th>\n",
       "      <th>amount_per_order_4weeks</th>\n",
       "      <th>order_per_week_4weeks</th>\n",
       "      <th>orderflag_4weeks_0</th>\n",
       "      <th>orderflag_4weeks_1</th>\n",
       "    </tr>\n",
       "  </thead>\n",
       "  <tbody>\n",
       "    <tr>\n",
       "      <th>0</th>\n",
       "      <td>0.000000</td>\n",
       "      <td>0.021739</td>\n",
       "      <td>0.004013</td>\n",
       "      <td>0.02078</td>\n",
       "      <td>0.238806</td>\n",
       "      <td>0.264706</td>\n",
       "      <td>0.212963</td>\n",
       "      <td>0.056319</td>\n",
       "      <td>0.000708</td>\n",
       "      <td>0.056327</td>\n",
       "      <td>0.021739</td>\n",
       "      <td>0</td>\n",
       "      <td>1</td>\n",
       "    </tr>\n",
       "    <tr>\n",
       "      <th>1</th>\n",
       "      <td>0.004739</td>\n",
       "      <td>0.000000</td>\n",
       "      <td>0.019336</td>\n",
       "      <td>0.00000</td>\n",
       "      <td>0.507463</td>\n",
       "      <td>0.132353</td>\n",
       "      <td>0.796296</td>\n",
       "      <td>0.135510</td>\n",
       "      <td>0.004981</td>\n",
       "      <td>0.000000</td>\n",
       "      <td>0.000000</td>\n",
       "      <td>1</td>\n",
       "      <td>0</td>\n",
       "    </tr>\n",
       "  </tbody>\n",
       "</table>\n",
       "</div>"
      ],
      "text/plain": [
       "   # of Orders  # of Orders in last 4 weeks    Amount  Amount in last 4 weeks  \\\n",
       "0     0.000000                     0.021739  0.004013                 0.02078   \n",
       "1     0.004739                     0.000000  0.019336                 0.00000   \n",
       "\n",
       "   Avg_DistanceFromResturant  Avg_DeliveryTime  cust_age  amount_per_order  \\\n",
       "0                   0.238806          0.264706  0.212963          0.056319   \n",
       "1                   0.507463          0.132353  0.796296          0.135510   \n",
       "\n",
       "   order_per_week_overall  amount_per_order_4weeks  order_per_week_4weeks  \\\n",
       "0                0.000708                 0.056327               0.021739   \n",
       "1                0.004981                 0.000000               0.000000   \n",
       "\n",
       "   orderflag_4weeks_0  orderflag_4weeks_1  \n",
       "0                   0                   1  \n",
       "1                   1                   0  "
      ]
     },
     "execution_count": 275,
     "metadata": {},
     "output_type": "execute_result"
    }
   ],
   "source": [
    "#Customer segmentation- kmeans cluster approach\n",
    "\n",
    "data.columns\n",
    "segmentation_data = data[['# of Orders',\n",
    "       '# of Orders in last 4 weeks', 'Amount',\n",
    "       'Amount in last 4 weeks',\n",
    "       'Avg_DistanceFromResturant', 'Avg_DeliveryTime', 'cust_age','amount_per_order', 'order_per_week_overall', 'amount_per_order_4weeks',\n",
    "       'order_per_week_4weeks']]\n",
    "from sklearn import preprocessing\n",
    "\n",
    "x = segmentation_data.values #returns a numpy array\n",
    "min_max_scaler = preprocessing.MinMaxScaler()\n",
    "x = min_max_scaler.fit_transform(x)\n",
    "segmentation_data = pd.DataFrame(x)\n",
    "\n",
    "#Handling categorical data- order flag last 4 weeks\n",
    "order_flag_4weeks = pd.get_dummies(data['order_flag_4weeks'])\n",
    "segmentation_data = pd.concat([segmentation_data,order_flag_4weeks], axis=1)\n",
    "segmentation_data.columns = ['# of Orders',\n",
    "       '# of Orders in last 4 weeks', 'Amount',\n",
    "       'Amount in last 4 weeks',\n",
    "       'Avg_DistanceFromResturant', 'Avg_DeliveryTime', 'cust_age','amount_per_order', 'order_per_week_overall', 'amount_per_order_4weeks',\n",
    "       'order_per_week_4weeks','orderflag_4weeks_0','orderflag_4weeks_1']\n",
    "segmentation_data.head(2)"
   ]
  },
  {
   "cell_type": "markdown",
   "metadata": {},
   "source": [
    "#### We will try to find out optimal nos of clusters from a range of options, minimizing cdist(The standardized Euclidean distance between two n-vectors)"
   ]
  },
  {
   "cell_type": "code",
   "execution_count": 240,
   "metadata": {},
   "outputs": [],
   "source": [
    "#Kmeans\n",
    "\n",
    "from scipy.spatial.distance import cdist\n",
    "from sklearn.cluster import KMeans\n",
    "clusters=range(3,6)\n",
    "meandist=[]\n",
    "\n",
    "# loop through each cluster and fit the model to the train set\n",
    "# generate the predicted cluster assingment and append the mean distance my taking the sum divided by the shape\n",
    "for k in clusters:\n",
    "    model=KMeans(n_clusters=k)\n",
    "    model.fit(segmentation_data)\n",
    "    clusassign=model.predict(segmentation_data)\n",
    "    meandist.append(sum(np.min(cdist(segmentation_data, model.cluster_centers_, 'euclidean'), axis=1))\n",
    "    / segmentation_data.shape[0])"
   ]
  },
  {
   "cell_type": "markdown",
   "metadata": {},
   "source": [
    "#### Elbow method is a method to determine the number of clusters"
   ]
  },
  {
   "cell_type": "code",
   "execution_count": 276,
   "metadata": {},
   "outputs": [
    {
     "data": {
      "text/plain": [
       "Text(0.5,1,'Selecting k with the Elbow Method')"
      ]
     },
     "execution_count": 276,
     "metadata": {},
     "output_type": "execute_result"
    },
    {
     "data": {
      "image/png": "[encoded data removed]",
      "text/plain": [
       "<Figure size 432x288 with 1 Axes>"
      ]
     },
     "metadata": {},
     "output_type": "display_data"
    }
   ],
   "source": [
    "#Plot average distance from observations from the cluster centroid\n",
    "#to use the Elbow Method to identify number of clusters to choose\n",
    "\n",
    "plt.plot(clusters, meandist)\n",
    "plt.xlabel('Number of clusters')\n",
    "plt.ylabel('Average distance')\n",
    "plt.title('Selecting k with the Elbow Method') # pick the fewest number of clusters that reduces the average distance"
   ]
  },
  {
   "cell_type": "code",
   "execution_count": 277,
   "metadata": {},
   "outputs": [
    {
     "name": "stdout",
     "output_type": "stream",
     "text": [
      "[[ 1.50489483e-02 -7.18175519e-16  9.46599564e-03 -6.38378239e-16\n",
      "   4.53974223e-01  1.71962328e-01  7.38830563e-01  3.45707661e-02\n",
      "   1.55266006e-02 -5.16947596e-16 -7.18175519e-16  1.00000000e+00\n",
      "   2.08721929e-14]\n",
      " [ 1.15026699e-02  4.72648752e-02  8.41956686e-03  2.79115956e-02\n",
      "   4.74417739e-01  3.04808344e-01  2.55393830e-01  3.67745416e-02\n",
      "   1.33690376e-02  3.73278521e-02  4.72648752e-02 -3.14193116e-14\n",
      "   1.00000000e+00]\n",
      " [ 3.54210871e-03 -7.18175519e-16  4.59506657e-03 -6.38378239e-16\n",
      "   4.58104353e-01  2.90095065e-01  3.91767879e-01  3.95214492e-02\n",
      "   4.37477434e-03 -5.16947596e-16 -7.18175519e-16  1.00000000e+00\n",
      "   2.09832152e-14]\n",
      " [ 8.88252871e-02  9.00579839e-02  4.42863711e-02  4.93824490e-02\n",
      "   4.69319332e-01  3.20577810e-01  7.72891744e-01  3.43514189e-02\n",
      "   9.03447404e-02  3.50717899e-02  9.00579839e-02 -3.33066907e-14\n",
      "   1.00000000e+00]\n",
      " [ 1.34435576e-02 -7.04297731e-16  9.73950137e-03 -6.27969898e-16\n",
      "   5.00591505e-01  5.32940538e-01  7.11120662e-01  3.67702648e-02\n",
      "   1.39412575e-02 -4.85722573e-16 -7.04297731e-16  1.00000000e+00\n",
      "   1.96509475e-14]]\n"
     ]
    }
   ],
   "source": [
    "#From the elbow plot we choose no of cluster as 5\n",
    "\n",
    "model=KMeans(n_clusters=5)\n",
    "model.fit(segmentation_data)\n",
    "clust_assign=model.predict(segmentation_data) \n",
    "print(model.cluster_centers_)"
   ]
  },
  {
   "cell_type": "markdown",
   "metadata": {},
   "source": [
    "#### Now it's time to get some insights about customer segements from cluster analysis result. "
   ]
  },
  {
   "cell_type": "code",
   "execution_count": 278,
   "metadata": {},
   "outputs": [
    {
     "data": {
      "text/html": [
       "<div>\n",
       "<style scoped>\n",
       "    .dataframe tbody tr th:only-of-type {\n",
       "        vertical-align: middle;\n",
       "    }\n",
       "\n",
       "    .dataframe tbody tr th {\n",
       "        vertical-align: top;\n",
       "    }\n",
       "\n",
       "    .dataframe thead th {\n",
       "        text-align: right;\n",
       "    }\n",
       "</style>\n",
       "<table border=\"1\" class=\"dataframe\">\n",
       "  <thead>\n",
       "    <tr style=\"text-align: right;\">\n",
       "      <th></th>\n",
       "      <th>index</th>\n",
       "      <th># of Orders</th>\n",
       "      <th># of Orders in last 4 weeks</th>\n",
       "      <th>Amount</th>\n",
       "      <th>Amount in last 4 weeks</th>\n",
       "      <th>Avg_DistanceFromResturant</th>\n",
       "      <th>Avg_DeliveryTime</th>\n",
       "      <th>cust_age</th>\n",
       "      <th>amount_per_order</th>\n",
       "      <th>order_per_week_overall</th>\n",
       "      <th>amount_per_order_4weeks</th>\n",
       "      <th>order_per_week_4weeks</th>\n",
       "      <th>orderflag_4weeks_0</th>\n",
       "      <th>orderflag_4weeks_1</th>\n",
       "      <th>cluster</th>\n",
       "    </tr>\n",
       "  </thead>\n",
       "  <tbody>\n",
       "    <tr>\n",
       "      <th>0</th>\n",
       "      <td>0</td>\n",
       "      <td>0.000000</td>\n",
       "      <td>0.021739</td>\n",
       "      <td>0.004013</td>\n",
       "      <td>0.02078</td>\n",
       "      <td>0.238806</td>\n",
       "      <td>0.264706</td>\n",
       "      <td>0.212963</td>\n",
       "      <td>0.056319</td>\n",
       "      <td>0.000708</td>\n",
       "      <td>0.056327</td>\n",
       "      <td>0.021739</td>\n",
       "      <td>0</td>\n",
       "      <td>1</td>\n",
       "      <td>1</td>\n",
       "    </tr>\n",
       "    <tr>\n",
       "      <th>1</th>\n",
       "      <td>1</td>\n",
       "      <td>0.004739</td>\n",
       "      <td>0.000000</td>\n",
       "      <td>0.019336</td>\n",
       "      <td>0.00000</td>\n",
       "      <td>0.507463</td>\n",
       "      <td>0.132353</td>\n",
       "      <td>0.796296</td>\n",
       "      <td>0.135510</td>\n",
       "      <td>0.004981</td>\n",
       "      <td>0.000000</td>\n",
       "      <td>0.000000</td>\n",
       "      <td>1</td>\n",
       "      <td>0</td>\n",
       "      <td>0</td>\n",
       "    </tr>\n",
       "    <tr>\n",
       "      <th>2</th>\n",
       "      <td>2</td>\n",
       "      <td>0.052133</td>\n",
       "      <td>0.108696</td>\n",
       "      <td>0.018781</td>\n",
       "      <td>0.04789</td>\n",
       "      <td>0.507463</td>\n",
       "      <td>0.235294</td>\n",
       "      <td>0.555556</td>\n",
       "      <td>0.021930</td>\n",
       "      <td>0.055707</td>\n",
       "      <td>0.025963</td>\n",
       "      <td>0.108696</td>\n",
       "      <td>0</td>\n",
       "      <td>1</td>\n",
       "      <td>3</td>\n",
       "    </tr>\n",
       "    <tr>\n",
       "      <th>3</th>\n",
       "      <td>3</td>\n",
       "      <td>0.037915</td>\n",
       "      <td>0.000000</td>\n",
       "      <td>0.011765</td>\n",
       "      <td>0.00000</td>\n",
       "      <td>0.298507</td>\n",
       "      <td>0.441176</td>\n",
       "      <td>0.726852</td>\n",
       "      <td>0.018319</td>\n",
       "      <td>0.039247</td>\n",
       "      <td>0.000000</td>\n",
       "      <td>0.000000</td>\n",
       "      <td>1</td>\n",
       "      <td>0</td>\n",
       "      <td>4</td>\n",
       "    </tr>\n",
       "    <tr>\n",
       "      <th>4</th>\n",
       "      <td>4</td>\n",
       "      <td>0.004739</td>\n",
       "      <td>0.000000</td>\n",
       "      <td>0.004042</td>\n",
       "      <td>0.00000</td>\n",
       "      <td>0.417910</td>\n",
       "      <td>0.558824</td>\n",
       "      <td>0.675926</td>\n",
       "      <td>0.028357</td>\n",
       "      <td>0.005188</td>\n",
       "      <td>0.000000</td>\n",
       "      <td>0.000000</td>\n",
       "      <td>1</td>\n",
       "      <td>0</td>\n",
       "      <td>4</td>\n",
       "    </tr>\n",
       "  </tbody>\n",
       "</table>\n",
       "</div>"
      ],
      "text/plain": [
       "   index  # of Orders  # of Orders in last 4 weeks    Amount  \\\n",
       "0      0     0.000000                     0.021739  0.004013   \n",
       "1      1     0.004739                     0.000000  0.019336   \n",
       "2      2     0.052133                     0.108696  0.018781   \n",
       "3      3     0.037915                     0.000000  0.011765   \n",
       "4      4     0.004739                     0.000000  0.004042   \n",
       "\n",
       "   Amount in last 4 weeks  Avg_DistanceFromResturant  Avg_DeliveryTime  \\\n",
       "0                 0.02078                   0.238806          0.264706   \n",
       "1                 0.00000                   0.507463          0.132353   \n",
       "2                 0.04789                   0.507463          0.235294   \n",
       "3                 0.00000                   0.298507          0.441176   \n",
       "4                 0.00000                   0.417910          0.558824   \n",
       "\n",
       "   cust_age  amount_per_order  order_per_week_overall  \\\n",
       "0  0.212963          0.056319                0.000708   \n",
       "1  0.796296          0.135510                0.004981   \n",
       "2  0.555556          0.021930                0.055707   \n",
       "3  0.726852          0.018319                0.039247   \n",
       "4  0.675926          0.028357                0.005188   \n",
       "\n",
       "   amount_per_order_4weeks  order_per_week_4weeks  orderflag_4weeks_0  \\\n",
       "0                 0.056327               0.021739                   0   \n",
       "1                 0.000000               0.000000                   1   \n",
       "2                 0.025963               0.108696                   0   \n",
       "3                 0.000000               0.000000                   1   \n",
       "4                 0.000000               0.000000                   1   \n",
       "\n",
       "   orderflag_4weeks_1  cluster  \n",
       "0                   1        1  \n",
       "1                   0        0  \n",
       "2                   1        3  \n",
       "3                   0        4  \n",
       "4                   0        4  "
      ]
     },
     "execution_count": 278,
     "metadata": {},
     "output_type": "execute_result"
    }
   ],
   "source": [
    "#Merging cluster assignment data with cluster variables- cluster variables means by cluster\n",
    "\n",
    "segmentation_data.reset_index(level=0, inplace = True)\n",
    "clustlist = list(segmentation_data['index'])\n",
    "lebels = list(model.labels_)\n",
    "new_list = dict(zip(clustlist,lebels))\n",
    "new_list = dict(zip(clustlist,lebels))\n",
    "new_clust = pd.DataFrame.from_dict(new_list, orient = 'index')\n",
    "new_clust.columns = ['cluster']\n",
    "new_clust.reset_index(level=0, inplace = True)\n",
    "merged_kmeans = pd.merge(segmentation_data,new_clust,on='index')\n",
    "merged_kmeans.head(5)"
   ]
  },
  {
   "cell_type": "code",
   "execution_count": 279,
   "metadata": {},
   "outputs": [
    {
     "data": {
      "text/plain": [
       "3    2257\n",
       "1    2084\n",
       "2    1912\n",
       "0    1905\n",
       "4    1842\n",
       "Name: cluster, dtype: int64"
      ]
     },
     "execution_count": 279,
     "metadata": {},
     "output_type": "execute_result"
    }
   ],
   "source": [
    "#Custer representation\n",
    "merged_kmeans['cluster'].value_counts()"
   ]
  },
  {
   "cell_type": "markdown",
   "metadata": {},
   "source": [
    "#### Variable means of respective clusters will provide features of each cluster/customer segment."
   ]
  },
  {
   "cell_type": "code",
   "execution_count": 280,
   "metadata": {},
   "outputs": [
    {
     "name": "stdout",
     "output_type": "stream",
     "text": [
      "clustering variable means by cluster\n",
      "               index  # of Orders  # of Orders in last 4 weeks    Amount  \\\n",
      "cluster                                                                    \n",
      "0        4014.125459     0.015049                     0.000000  0.009466   \n",
      "1        6474.121881     0.011503                     0.047265  0.008420   \n",
      "2        5615.870293     0.003542                     0.000000  0.004595   \n",
      "3        4721.133363     0.088825                     0.090058  0.044286   \n",
      "4        4051.508686     0.013444                     0.000000  0.009740   \n",
      "\n",
      "         Amount in last 4 weeks  Avg_DistanceFromResturant  Avg_DeliveryTime  \\\n",
      "cluster                                                                        \n",
      "0                      0.000000                   0.453974          0.171962   \n",
      "1                      0.027912                   0.474418          0.304808   \n",
      "2                      0.000000                   0.458104          0.290095   \n",
      "3                      0.049382                   0.469319          0.320578   \n",
      "4                      0.000000                   0.500592          0.532941   \n",
      "\n",
      "         cust_age  amount_per_order  order_per_week_overall  \\\n",
      "cluster                                                       \n",
      "0        0.738831          0.034571                0.015527   \n",
      "1        0.255394          0.036775                0.013369   \n",
      "2        0.391768          0.039521                0.004375   \n",
      "3        0.772892          0.034351                0.090345   \n",
      "4        0.711121          0.036770                0.013941   \n",
      "\n",
      "         amount_per_order_4weeks  order_per_week_4weeks  orderflag_4weeks_0  \\\n",
      "cluster                                                                       \n",
      "0                       0.000000               0.000000                   1   \n",
      "1                       0.037328               0.047265                   0   \n",
      "2                       0.000000               0.000000                   1   \n",
      "3                       0.035072               0.090058                   0   \n",
      "4                       0.000000               0.000000                   1   \n",
      "\n",
      "         orderflag_4weeks_1  \n",
      "cluster                      \n",
      "0                         0  \n",
      "1                         1  \n",
      "2                         0  \n",
      "3                         1  \n",
      "4                         0  \n"
     ]
    }
   ],
   "source": [
    "#Variable Means of respective clusters- These mean values are nomalised between 0 and 1\n",
    "clust_grp = merged_kmeans.groupby('cluster').mean()\n",
    "print('clustering variable means by cluster')\n",
    "print(clust_grp)"
   ]
  },
  {
   "cell_type": "markdown",
   "metadata": {},
   "source": [
    "##### The above cluster variables means by cluster is quite insightful and provides key information in terms of customers' spend behaviour(e.g.Amount in last 4 weeks), ordering behaviour(# of Orders,order_per_week_overall etc.), customer loyalty and recent activity(e.g.Number of addresses customer held in the last 5 years) about different customer segments(clusters).Following are a few examples of data driven insights from customer segmentation with k-means clustering, which would help business to make targeting and pricing strategy customized to each segment.\n",
    "\n",
    "a)In terms of recent order placement Customer segment 1 and 3(cluster 1 and 3)are most active in Swiggy and these are the customers placed orders in last 1 month.Also in terms of duration customer segment 1 is the youngest segment.\n",
    "\n",
    "b)Overall in terms of loyalty and valuation segment 3 is the most valuable customer to Swiggy, having highest spend(Amount, Amount in last 4 weeks etc.).Also in terms of duration they are the oldest customers of Swiggy.Swiggy marketing effort should put all efforts to retain this customer segment.\n",
    "\n",
    "c) Customer segment 2 has the most inactive customers(in terms of CLTV least), both in recent time as well as in overall duration with Swiggy, having disproportionately less order placement, spend and recent activity. Swiggy may send some temporary(time-bound) customized offer/promo for this segment to increase the stickiness. \n",
    "\n",
    "d) Also for the customers, who ordered at least once in recent time, it's evident that over the time on an average customers spend behaviour(amount/order) doesn't change significantly.\n",
    "\n",
    "There are many more interesting facts hidden in the above analysis and with thorough study business can decipher many more intriguing patterns amongst these segments"
   ]
  },
  {
   "cell_type": "code",
   "execution_count": null,
   "metadata": {},
   "outputs": [],
   "source": []
  },
  {
   "cell_type": "markdown",
   "metadata": {},
   "source": [
    "- ### Predicting customer spend in last 7 days based on past.\n",
    "\n",
    "##### Before structuring the approach/solution, let's first explore customers spend behaviour last 7 days.\n"
   ]
  },
  {
   "cell_type": "code",
   "execution_count": 462,
   "metadata": {},
   "outputs": [
    {
     "data": {
      "text/plain": [
       "{'whiskers': [<matplotlib.lines.Line2D at 0x27930aad5f8>,\n",
       "  <matplotlib.lines.Line2D at 0x27930aada90>],\n",
       " 'caps': [<matplotlib.lines.Line2D at 0x27930aadeb8>,\n",
       "  <matplotlib.lines.Line2D at 0x27930ab6320>],\n",
       " 'boxes': [<matplotlib.lines.Line2D at 0x27930aad4a8>],\n",
       " 'medians': [<matplotlib.lines.Line2D at 0x27930ab6748>],\n",
       " 'fliers': [<matplotlib.lines.Line2D at 0x27930ab6b70>],\n",
       " 'means': []}"
      ]
     },
     "execution_count": 462,
     "metadata": {},
     "output_type": "execute_result"
    },
    {
     "data": {
      "image/png": "[encoded data removed]",
      "text/plain": [
       "<Figure size 432x288 with 1 Axes>"
      ]
     },
     "metadata": {},
     "output_type": "display_data"
    },
    {
     "data": {
      "image/png": "[encoded data removed]",
      "text/plain": [
       "<Figure size 432x288 with 1 Axes>"
      ]
     },
     "metadata": {},
     "output_type": "display_data"
    }
   ],
   "source": [
    "#Order amount in last week- distribution\n",
    "sns.distplot(data['Amount in last 7 days'], hist = False, kde = True,rug=True,\n",
    "                 kde_kws = {'linewidth': 1.5})\n",
    "    \n",
    "plt.figure()\n",
    "plt.boxplot(data['Amount in last 7 days'], 0,'gD', 0, 0.75)"
   ]
  },
  {
   "cell_type": "markdown",
   "metadata": {},
   "source": [
    "#### As expected customer spend behaviour contains a few outliers. While majority of customers has zero spend(which is expected, as only approx 19% customers ordered at least one order in last 7days), a few customers have extremely high spend in last 7days.So erratic behaviour of spend makes direct prediction of this metric difficult.\n",
    "\n",
    "\n",
    "- ### *Solution*\n",
    "#### Instead here we can structure this problem into two stages of prediction- 1) prediction/propensity to order(binary classification) in last 7 days. 2) Prediction of no of order(regression) in last 7 days(as this less erratic in nature copared to spend in last 7 days). Then we can predict customer spend in last 7 days using following simple formula.\n",
    "\n",
    "##### customer spend in last 7 days = (prediction of order in last 7 days) X (Prediction of no of order) X (amount_per_order in overall)\n",
    "##### Although this is a approximate solution, it gives decently quality prediction. Off course there are other approaches, which are also worth trying."
   ]
  },
  {
   "cell_type": "code",
   "execution_count": null,
   "metadata": {},
   "outputs": [],
   "source": []
  },
  {
   "cell_type": "markdown",
   "metadata": {},
   "source": [
    "### First stage prediction(propensity to order)\n",
    "\n",
    "#####  To predict the weather customer will order or not we can use information till previous week of last 7 days(e.g. we can use features like 'amount_last_3weeks','order_flag_3weeks' etc.).\n"
   ]
  },
  {
   "cell_type": "code",
   "execution_count": 463,
   "metadata": {},
   "outputs": [
    {
     "name": "stdout",
     "output_type": "stream",
     "text": [
      "0    8077\n",
      "1    1923\n",
      "Name: orderflag_last_7days, dtype: int64\n",
      "percent of customer ordered is: 19.230000 percent\n"
     ]
    },
    {
     "data": {
      "text/plain": [
       "<matplotlib.axes._subplots.AxesSubplot at 0x27931c57438>"
      ]
     },
     "execution_count": 463,
     "metadata": {},
     "output_type": "execute_result"
    },
    {
     "data": {
      "image/png": "[encoded data removed]",
      "text/plain": [
       "<Figure size 432x288 with 1 Axes>"
      ]
     },
     "metadata": {},
     "output_type": "display_data"
    }
   ],
   "source": [
    "#prediction- order propensity(binary classification model)\n",
    "\n",
    "print(data['orderflag_last_7days'].value_counts())\n",
    "print('percent of customer ordered is: %f percent' %((data['orderflag_last_7days'].value_counts()[1]/data['orderflag_last_7days'].shape[0]) * 100))\n",
    "data['orderflag_last_7days'].astype(int).plot.hist()"
   ]
  },
  {
   "cell_type": "code",
   "execution_count": 413,
   "metadata": {},
   "outputs": [
    {
     "name": "stdout",
     "output_type": "stream",
     "text": [
      "Index(['customer_id', 'First Time', 'Recent Time', '# of Orders',\n",
      "       '# of Orders in last 7 days', '# of Orders in last 4 weeks', 'Amount',\n",
      "       'Amount in last 7 days', 'Amount in last 4 weeks',\n",
      "       'Avg_DistanceFromResturant', 'Avg_DeliveryTime', 'cust_age',\n",
      "       'time_dist_ratio', 'amount_per_order', 'order_per_week_overall',\n",
      "       'amount_per_order_7days', 'amount_per_order_4weeks',\n",
      "       'order_per_week_4weeks', 'recent_change_amount_per_order',\n",
      "       'amount_before_lastweek', 'order_before_lastweek', 'amount_last_3weeks',\n",
      "       'order_last_3weeks', 'amount_per_order_3weeks', 'order_per_week_3weeks',\n",
      "       'order_flag_4weeks', 'order_flag_3weeks', 'orderflag_last_7days'],\n",
      "      dtype='object')\n"
     ]
    },
    {
     "data": {
      "text/html": [
       "<div>\n",
       "<style scoped>\n",
       "    .dataframe tbody tr th:only-of-type {\n",
       "        vertical-align: middle;\n",
       "    }\n",
       "\n",
       "    .dataframe tbody tr th {\n",
       "        vertical-align: top;\n",
       "    }\n",
       "\n",
       "    .dataframe thead th {\n",
       "        text-align: right;\n",
       "    }\n",
       "</style>\n",
       "<table border=\"1\" class=\"dataframe\">\n",
       "  <thead>\n",
       "    <tr style=\"text-align: right;\">\n",
       "      <th></th>\n",
       "      <th>Avg_DistanceFromResturant</th>\n",
       "      <th>Avg_DeliveryTime</th>\n",
       "      <th>cust_age</th>\n",
       "      <th>amount_per_order</th>\n",
       "      <th>order_per_week_overall</th>\n",
       "      <th>amount_before_lastweek</th>\n",
       "      <th>order_before_lastweek</th>\n",
       "      <th>amount_last_3weeks</th>\n",
       "      <th>order_last_3weeks</th>\n",
       "      <th>amount_per_order_3weeks</th>\n",
       "      <th>order_per_week_3weeks</th>\n",
       "      <th>order_flag_3weeks_0</th>\n",
       "      <th>order_flag_3weeks_1</th>\n",
       "    </tr>\n",
       "  </thead>\n",
       "  <tbody>\n",
       "    <tr>\n",
       "      <th>0</th>\n",
       "      <td>0.8</td>\n",
       "      <td>33</td>\n",
       "      <td>158.857143</td>\n",
       "      <td>558.0</td>\n",
       "      <td>0.006295</td>\n",
       "      <td>558</td>\n",
       "      <td>1.0</td>\n",
       "      <td>558</td>\n",
       "      <td>1.0</td>\n",
       "      <td>557.999999</td>\n",
       "      <td>0.333333</td>\n",
       "      <td>0</td>\n",
       "      <td>1</td>\n",
       "    </tr>\n",
       "    <tr>\n",
       "      <th>1</th>\n",
       "      <td>2.6</td>\n",
       "      <td>24</td>\n",
       "      <td>176.857143</td>\n",
       "      <td>1342.5</td>\n",
       "      <td>0.011309</td>\n",
       "      <td>2685</td>\n",
       "      <td>2.0</td>\n",
       "      <td>0</td>\n",
       "      <td>0.0</td>\n",
       "      <td>0.000000</td>\n",
       "      <td>0.000000</td>\n",
       "      <td>1</td>\n",
       "      <td>0</td>\n",
       "    </tr>\n",
       "  </tbody>\n",
       "</table>\n",
       "</div>"
      ],
      "text/plain": [
       "   Avg_DistanceFromResturant  Avg_DeliveryTime    cust_age  amount_per_order  \\\n",
       "0                        0.8                33  158.857143             558.0   \n",
       "1                        2.6                24  176.857143            1342.5   \n",
       "\n",
       "   order_per_week_overall  amount_before_lastweek  order_before_lastweek  \\\n",
       "0                0.006295                     558                    1.0   \n",
       "1                0.011309                    2685                    2.0   \n",
       "\n",
       "   amount_last_3weeks  order_last_3weeks  amount_per_order_3weeks  \\\n",
       "0                 558                1.0               557.999999   \n",
       "1                   0                0.0                 0.000000   \n",
       "\n",
       "   order_per_week_3weeks  order_flag_3weeks_0  order_flag_3weeks_1  \n",
       "0               0.333333                    0                    1  \n",
       "1               0.000000                    1                    0  "
      ]
     },
     "execution_count": 413,
     "metadata": {},
     "output_type": "execute_result"
    }
   ],
   "source": [
    "print(data.columns)\n",
    "cust_id = data[['customer_id', 'amount_per_order_3weeks','amount_per_order','Amount in last 7 days','orderflag_last_7days']\n",
    "              ]\n",
    "#Use variables excluding last weeks order metrics(3weeks past data to predict last weeks order propensity) \n",
    "data_model = data[['Avg_DistanceFromResturant', 'Avg_DeliveryTime', 'cust_age',\n",
    "       'amount_per_order', 'order_per_week_overall','amount_before_lastweek', 'order_before_lastweek', 'amount_last_3weeks',\n",
    "       'order_last_3weeks', 'amount_per_order_3weeks','order_per_week_3weeks']]\n",
    "\n",
    "#Handling Categorical Variables-LabelEncoding approach\n",
    "order_flag_3weeks = pd.get_dummies(data['order_flag_3weeks'])\n",
    "order_flag_3weeks.columns = ['order_flag_3weeks_0','order_flag_3weeks_1']\n",
    "data_model = pd.concat([data_model,order_flag_3weeks], axis=1)\n",
    "\n",
    "data_model.head(2)"
   ]
  },
  {
   "cell_type": "code",
   "execution_count": 414,
   "metadata": {},
   "outputs": [
    {
     "name": "stdout",
     "output_type": "stream",
     "text": [
      "train_data size: (9000, 13)\n",
      "validation_data size: (1000, 13)\n",
      "      Avg_DistanceFromResturant  Avg_DeliveryTime  cust_age  amount_per_order  \\\n",
      "6706                   0.865550          1.524560 -0.955739          -0.27609   \n",
      "3527                   0.044929         -0.600717  0.342757          -0.39639   \n",
      "\n",
      "      order_per_week_overall  amount_before_lastweek  order_before_lastweek  \\\n",
      "6706               -0.461704               -0.381244              -0.448384   \n",
      "3527                0.793272                0.295458               0.816317   \n",
      "\n",
      "      amount_last_3weeks  order_last_3weeks  amount_per_order_3weeks  \\\n",
      "6706           -0.347418          -0.434185                -0.444779   \n",
      "3527           -0.347418          -0.434185                -0.444779   \n",
      "\n",
      "      order_per_week_3weeks  order_flag_3weeks_0  order_flag_3weeks_1  \n",
      "6706              -0.434185             0.771295            -0.771295  \n",
      "3527              -0.434185             0.771295            -0.771295  \n",
      "6706    0\n",
      "3527    0\n",
      "Name: orderflag_last_7days, dtype: int32\n"
     ]
    }
   ],
   "source": [
    "from sklearn import preprocessing\n",
    "\n",
    "sc = preprocessing.StandardScaler()\n",
    "data_model = sc.fit_transform(data_model)\n",
    "data_model = pd.DataFrame(data_model)\n",
    "data_model.columns = ['Avg_DistanceFromResturant', 'Avg_DeliveryTime', 'cust_age',\n",
    "       'amount_per_order', 'order_per_week_overall','amount_before_lastweek', 'order_before_lastweek', 'amount_last_3weeks',\n",
    "       'order_last_3weeks', 'amount_per_order_3weeks','order_per_week_3weeks','order_flag_3weeks_0','order_flag_3weeks_1']\n",
    "\n",
    "#Data seperation for development and validation\n",
    "from sklearn.cross_validation import train_test_split\n",
    "train_X,validation_X,train_Y,validation_Y,train_cust,validation_cust = train_test_split(data_model,data['orderflag_last_7days'],cust_id, test_size = 0.1, random_state = 20)\n",
    "print('train_data size:', train_X.shape)\n",
    "print('validation_data size:', validation_X.shape)\n",
    "print(train_X.head(2))\n",
    "print(train_Y.head(2))"
   ]
  },
  {
   "cell_type": "markdown",
   "metadata": {},
   "source": [
    "##### Now the data is scaled and model won't be sensitive to magnitude. Now we are ready to build model.This is a binary classification problem(order/not order).There are many m/c learning techniques- Decision Tree,Random Forest,Boosing techniques(GBM,XGBoost etc.),SVM etc. and the ideal way would be to try each of them and take the best one or stacking(prediction from multiple ). Because of time constaint we will be focussing on XGBoost(extreme gradient boosting), a class of boosting method,as modelling technique.\n",
    "\n",
    "##### XGBoost is also called regularized Gradient Boosting(an ensemble decision tree based algorithm) and in python it comes as an algorithm under sklearn package. XGBoost provides a parallel tree boosting (also known as GBDT, GBM) that solve many data science problems in a fast and accurate way.\n",
    "\n",
    "##### For building this model, as optimization strategy, we try to maximize AUC(area under the curve) metric. To enhance the performance of the model we will do hyperparameter tuning from grid search, varying few key hyperparameters- depth, learning rate,colsample and subsample rate of XGB algorithm and will pick the hyper parameter setting,which will give maximum performance(highest AUC).Offcource there are many more hyperparameters(no of trees,regularization parametrs,min_child_weight etc.) we can play with.  "
   ]
  },
  {
   "cell_type": "code",
   "execution_count": 304,
   "metadata": {},
   "outputs": [
    {
     "name": "stderr",
     "output_type": "stream",
     "text": [
      "C:\\Users\\Sourish\\Anaconda3\\lib\\site-packages\\sklearn\\grid_search.py:42: DeprecationWarning:\n",
      "\n",
      "This module was deprecated in version 0.18 in favor of the model_selection module into which all the refactored classes and functions are moved. This module will be removed in 0.20.\n",
      "\n"
     ]
    },
    {
     "name": "stdout",
     "output_type": "stream",
     "text": [
      "Fitting 2 folds for each of 32 candidates, totalling 64 fits\n",
      "[CV] colsample_bytree=0.5, learning_rate=0.02, max_depth=4, subsample=0.7 \n",
      "[CV]  colsample_bytree=0.5, learning_rate=0.02, max_depth=4, subsample=0.7 -   0.2s\n"
     ]
    },
    {
     "name": "stderr",
     "output_type": "stream",
     "text": [
      "[Parallel(n_jobs=1)]: Done   1 out of   1 | elapsed:    0.2s remaining:    0.0s\n"
     ]
    },
    {
     "name": "stdout",
     "output_type": "stream",
     "text": [
      "[CV] colsample_bytree=0.5, learning_rate=0.02, max_depth=4, subsample=0.7 \n",
      "[CV]  colsample_bytree=0.5, learning_rate=0.02, max_depth=4, subsample=0.7 -   0.2s\n",
      "[CV] colsample_bytree=0.5, learning_rate=0.02, max_depth=4, subsample=0.8 \n",
      "[CV]  colsample_bytree=0.5, learning_rate=0.02, max_depth=4, subsample=0.8 -   0.2s\n",
      "[CV] colsample_bytree=0.5, learning_rate=0.02, max_depth=4, subsample=0.8 \n",
      "[CV]  colsample_bytree=0.5, learning_rate=0.02, max_depth=4, subsample=0.8 -   0.2s\n",
      "[CV] colsample_bytree=0.5, learning_rate=0.02, max_depth=5, subsample=0.7 \n",
      "[CV]  colsample_bytree=0.5, learning_rate=0.02, max_depth=5, subsample=0.7 -   0.3s\n",
      "[CV] colsample_bytree=0.5, learning_rate=0.02, max_depth=5, subsample=0.7 \n",
      "[CV]  colsample_bytree=0.5, learning_rate=0.02, max_depth=5, subsample=0.7 -   0.3s\n",
      "[CV] colsample_bytree=0.5, learning_rate=0.02, max_depth=5, subsample=0.8 \n",
      "[CV]  colsample_bytree=0.5, learning_rate=0.02, max_depth=5, subsample=0.8 -   0.3s\n",
      "[CV] colsample_bytree=0.5, learning_rate=0.02, max_depth=5, subsample=0.8 \n",
      "[CV]  colsample_bytree=0.5, learning_rate=0.02, max_depth=5, subsample=0.8 -   0.3s\n",
      "[CV] colsample_bytree=0.5, learning_rate=0.03, max_depth=4, subsample=0.7 \n",
      "[CV]  colsample_bytree=0.5, learning_rate=0.03, max_depth=4, subsample=0.7 -   0.2s\n",
      "[CV] colsample_bytree=0.5, learning_rate=0.03, max_depth=4, subsample=0.7 \n",
      "[CV]  colsample_bytree=0.5, learning_rate=0.03, max_depth=4, subsample=0.7 -   0.2s\n",
      "[CV] colsample_bytree=0.5, learning_rate=0.03, max_depth=4, subsample=0.8 \n",
      "[CV]  colsample_bytree=0.5, learning_rate=0.03, max_depth=4, subsample=0.8 -   0.2s\n",
      "[CV] colsample_bytree=0.5, learning_rate=0.03, max_depth=4, subsample=0.8 \n",
      "[CV]  colsample_bytree=0.5, learning_rate=0.03, max_depth=4, subsample=0.8 -   0.2s\n",
      "[CV] colsample_bytree=0.5, learning_rate=0.03, max_depth=5, subsample=0.7 \n",
      "[CV]  colsample_bytree=0.5, learning_rate=0.03, max_depth=5, subsample=0.7 -   0.3s\n",
      "[CV] colsample_bytree=0.5, learning_rate=0.03, max_depth=5, subsample=0.7 \n",
      "[CV]  colsample_bytree=0.5, learning_rate=0.03, max_depth=5, subsample=0.7 -   0.2s\n",
      "[CV] colsample_bytree=0.5, learning_rate=0.03, max_depth=5, subsample=0.8 \n",
      "[CV]  colsample_bytree=0.5, learning_rate=0.03, max_depth=5, subsample=0.8 -   0.2s\n",
      "[CV] colsample_bytree=0.5, learning_rate=0.03, max_depth=5, subsample=0.8 \n",
      "[CV]  colsample_bytree=0.5, learning_rate=0.03, max_depth=5, subsample=0.8 -   0.2s\n",
      "[CV] colsample_bytree=0.6, learning_rate=0.02, max_depth=4, subsample=0.7 \n",
      "[CV]  colsample_bytree=0.6, learning_rate=0.02, max_depth=4, subsample=0.7 -   0.2s\n",
      "[CV] colsample_bytree=0.6, learning_rate=0.02, max_depth=4, subsample=0.7 \n",
      "[CV]  colsample_bytree=0.6, learning_rate=0.02, max_depth=4, subsample=0.7 -   0.2s\n",
      "[CV] colsample_bytree=0.6, learning_rate=0.02, max_depth=4, subsample=0.8 \n",
      "[CV]  colsample_bytree=0.6, learning_rate=0.02, max_depth=4, subsample=0.8 -   0.2s\n",
      "[CV] colsample_bytree=0.6, learning_rate=0.02, max_depth=4, subsample=0.8 \n",
      "[CV]  colsample_bytree=0.6, learning_rate=0.02, max_depth=4, subsample=0.8 -   0.2s\n",
      "[CV] colsample_bytree=0.6, learning_rate=0.02, max_depth=5, subsample=0.7 \n",
      "[CV]  colsample_bytree=0.6, learning_rate=0.02, max_depth=5, subsample=0.7 -   0.3s\n",
      "[CV] colsample_bytree=0.6, learning_rate=0.02, max_depth=5, subsample=0.7 \n",
      "[CV]  colsample_bytree=0.6, learning_rate=0.02, max_depth=5, subsample=0.7 -   0.3s\n",
      "[CV] colsample_bytree=0.6, learning_rate=0.02, max_depth=5, subsample=0.8 \n",
      "[CV]  colsample_bytree=0.6, learning_rate=0.02, max_depth=5, subsample=0.8 -   0.3s\n",
      "[CV] colsample_bytree=0.6, learning_rate=0.02, max_depth=5, subsample=0.8 \n",
      "[CV]  colsample_bytree=0.6, learning_rate=0.02, max_depth=5, subsample=0.8 -   0.3s\n",
      "[CV] colsample_bytree=0.6, learning_rate=0.03, max_depth=4, subsample=0.7 \n",
      "[CV]  colsample_bytree=0.6, learning_rate=0.03, max_depth=4, subsample=0.7 -   0.2s\n",
      "[CV] colsample_bytree=0.6, learning_rate=0.03, max_depth=4, subsample=0.7 \n",
      "[CV]  colsample_bytree=0.6, learning_rate=0.03, max_depth=4, subsample=0.7 -   0.2s\n",
      "[CV] colsample_bytree=0.6, learning_rate=0.03, max_depth=4, subsample=0.8 \n",
      "[CV]  colsample_bytree=0.6, learning_rate=0.03, max_depth=4, subsample=0.8 -   0.2s\n",
      "[CV] colsample_bytree=0.6, learning_rate=0.03, max_depth=4, subsample=0.8 \n",
      "[CV]  colsample_bytree=0.6, learning_rate=0.03, max_depth=4, subsample=0.8 -   0.2s\n",
      "[CV] colsample_bytree=0.6, learning_rate=0.03, max_depth=5, subsample=0.7 \n",
      "[CV]  colsample_bytree=0.6, learning_rate=0.03, max_depth=5, subsample=0.7 -   0.3s\n",
      "[CV] colsample_bytree=0.6, learning_rate=0.03, max_depth=5, subsample=0.7 \n",
      "[CV]  colsample_bytree=0.6, learning_rate=0.03, max_depth=5, subsample=0.7 -   0.3s\n",
      "[CV] colsample_bytree=0.6, learning_rate=0.03, max_depth=5, subsample=0.8 \n",
      "[CV]  colsample_bytree=0.6, learning_rate=0.03, max_depth=5, subsample=0.8 -   0.3s\n",
      "[CV] colsample_bytree=0.6, learning_rate=0.03, max_depth=5, subsample=0.8 \n",
      "[CV]  colsample_bytree=0.6, learning_rate=0.03, max_depth=5, subsample=0.8 -   0.3s\n",
      "[CV] colsample_bytree=0.7, learning_rate=0.02, max_depth=4, subsample=0.7 \n",
      "[CV]  colsample_bytree=0.7, learning_rate=0.02, max_depth=4, subsample=0.7 -   0.3s\n",
      "[CV] colsample_bytree=0.7, learning_rate=0.02, max_depth=4, subsample=0.7 \n",
      "[CV]  colsample_bytree=0.7, learning_rate=0.02, max_depth=4, subsample=0.7 -   0.2s\n",
      "[CV] colsample_bytree=0.7, learning_rate=0.02, max_depth=4, subsample=0.8 \n",
      "[CV]  colsample_bytree=0.7, learning_rate=0.02, max_depth=4, subsample=0.8 -   0.3s\n",
      "[CV] colsample_bytree=0.7, learning_rate=0.02, max_depth=4, subsample=0.8 \n",
      "[CV]  colsample_bytree=0.7, learning_rate=0.02, max_depth=4, subsample=0.8 -   0.3s\n",
      "[CV] colsample_bytree=0.7, learning_rate=0.02, max_depth=5, subsample=0.7 \n",
      "[CV]  colsample_bytree=0.7, learning_rate=0.02, max_depth=5, subsample=0.7 -   0.3s\n",
      "[CV] colsample_bytree=0.7, learning_rate=0.02, max_depth=5, subsample=0.7 \n",
      "[CV]  colsample_bytree=0.7, learning_rate=0.02, max_depth=5, subsample=0.7 -   0.3s\n",
      "[CV] colsample_bytree=0.7, learning_rate=0.02, max_depth=5, subsample=0.8 \n",
      "[CV]  colsample_bytree=0.7, learning_rate=0.02, max_depth=5, subsample=0.8 -   0.3s\n",
      "[CV] colsample_bytree=0.7, learning_rate=0.02, max_depth=5, subsample=0.8 \n",
      "[CV]  colsample_bytree=0.7, learning_rate=0.02, max_depth=5, subsample=0.8 -   0.3s\n",
      "[CV] colsample_bytree=0.7, learning_rate=0.03, max_depth=4, subsample=0.7 \n",
      "[CV]  colsample_bytree=0.7, learning_rate=0.03, max_depth=4, subsample=0.7 -   0.2s\n",
      "[CV] colsample_bytree=0.7, learning_rate=0.03, max_depth=4, subsample=0.7 \n",
      "[CV]  colsample_bytree=0.7, learning_rate=0.03, max_depth=4, subsample=0.7 -   0.2s\n",
      "[CV] colsample_bytree=0.7, learning_rate=0.03, max_depth=4, subsample=0.8 \n",
      "[CV]  colsample_bytree=0.7, learning_rate=0.03, max_depth=4, subsample=0.8 -   0.2s\n",
      "[CV] colsample_bytree=0.7, learning_rate=0.03, max_depth=4, subsample=0.8 \n",
      "[CV]  colsample_bytree=0.7, learning_rate=0.03, max_depth=4, subsample=0.8 -   0.2s\n",
      "[CV] colsample_bytree=0.7, learning_rate=0.03, max_depth=5, subsample=0.7 \n",
      "[CV]  colsample_bytree=0.7, learning_rate=0.03, max_depth=5, subsample=0.7 -   0.3s\n",
      "[CV] colsample_bytree=0.7, learning_rate=0.03, max_depth=5, subsample=0.7 \n",
      "[CV]  colsample_bytree=0.7, learning_rate=0.03, max_depth=5, subsample=0.7 -   0.3s\n",
      "[CV] colsample_bytree=0.7, learning_rate=0.03, max_depth=5, subsample=0.8 \n",
      "[CV]  colsample_bytree=0.7, learning_rate=0.03, max_depth=5, subsample=0.8 -   0.3s\n",
      "[CV] colsample_bytree=0.7, learning_rate=0.03, max_depth=5, subsample=0.8 \n",
      "[CV]  colsample_bytree=0.7, learning_rate=0.03, max_depth=5, subsample=0.8 -   0.3s\n",
      "[CV] colsample_bytree=0.8, learning_rate=0.02, max_depth=4, subsample=0.7 \n",
      "[CV]  colsample_bytree=0.8, learning_rate=0.02, max_depth=4, subsample=0.7 -   0.3s\n",
      "[CV] colsample_bytree=0.8, learning_rate=0.02, max_depth=4, subsample=0.7 \n",
      "[CV]  colsample_bytree=0.8, learning_rate=0.02, max_depth=4, subsample=0.7 -   0.3s\n",
      "[CV] colsample_bytree=0.8, learning_rate=0.02, max_depth=4, subsample=0.8 \n",
      "[CV]  colsample_bytree=0.8, learning_rate=0.02, max_depth=4, subsample=0.8 -   0.3s\n",
      "[CV] colsample_bytree=0.8, learning_rate=0.02, max_depth=4, subsample=0.8 \n",
      "[CV]  colsample_bytree=0.8, learning_rate=0.02, max_depth=4, subsample=0.8 -   0.3s\n",
      "[CV] colsample_bytree=0.8, learning_rate=0.02, max_depth=5, subsample=0.7 \n",
      "[CV]  colsample_bytree=0.8, learning_rate=0.02, max_depth=5, subsample=0.7 -   0.4s\n",
      "[CV] colsample_bytree=0.8, learning_rate=0.02, max_depth=5, subsample=0.7 \n",
      "[CV]  colsample_bytree=0.8, learning_rate=0.02, max_depth=5, subsample=0.7 -   0.3s\n",
      "[CV] colsample_bytree=0.8, learning_rate=0.02, max_depth=5, subsample=0.8 \n",
      "[CV]  colsample_bytree=0.8, learning_rate=0.02, max_depth=5, subsample=0.8 -   0.3s\n",
      "[CV] colsample_bytree=0.8, learning_rate=0.02, max_depth=5, subsample=0.8 \n",
      "[CV]  colsample_bytree=0.8, learning_rate=0.02, max_depth=5, subsample=0.8 -   0.3s\n",
      "[CV] colsample_bytree=0.8, learning_rate=0.03, max_depth=4, subsample=0.7 \n",
      "[CV]  colsample_bytree=0.8, learning_rate=0.03, max_depth=4, subsample=0.7 -   0.3s\n",
      "[CV] colsample_bytree=0.8, learning_rate=0.03, max_depth=4, subsample=0.7 \n",
      "[CV]  colsample_bytree=0.8, learning_rate=0.03, max_depth=4, subsample=0.7 -   0.3s\n",
      "[CV] colsample_bytree=0.8, learning_rate=0.03, max_depth=4, subsample=0.8 \n",
      "[CV]  colsample_bytree=0.8, learning_rate=0.03, max_depth=4, subsample=0.8 -   0.2s\n",
      "[CV] colsample_bytree=0.8, learning_rate=0.03, max_depth=4, subsample=0.8 \n",
      "[CV]  colsample_bytree=0.8, learning_rate=0.03, max_depth=4, subsample=0.8 -   0.2s\n",
      "[CV] colsample_bytree=0.8, learning_rate=0.03, max_depth=5, subsample=0.7 \n",
      "[CV]  colsample_bytree=0.8, learning_rate=0.03, max_depth=5, subsample=0.7 -   0.3s\n",
      "[CV] colsample_bytree=0.8, learning_rate=0.03, max_depth=5, subsample=0.7 \n",
      "[CV]  colsample_bytree=0.8, learning_rate=0.03, max_depth=5, subsample=0.7 -   0.3s\n",
      "[CV] colsample_bytree=0.8, learning_rate=0.03, max_depth=5, subsample=0.8 \n",
      "[CV]  colsample_bytree=0.8, learning_rate=0.03, max_depth=5, subsample=0.8 -   0.3s\n",
      "[CV] colsample_bytree=0.8, learning_rate=0.03, max_depth=5, subsample=0.8 \n",
      "[CV]  colsample_bytree=0.8, learning_rate=0.03, max_depth=5, subsample=0.8 -   0.3s\n"
     ]
    },
    {
     "name": "stderr",
     "output_type": "stream",
     "text": [
      "[Parallel(n_jobs=1)]: Done  64 out of  64 | elapsed:   23.0s finished\n"
     ]
    },
    {
     "data": {
      "text/plain": [
       "XGBClassifier(base_score=0.5, booster='gbtree', colsample_bylevel=1,\n",
       "       colsample_bytree=0.8, gamma=0, learning_rate=0.03, max_delta_step=0,\n",
       "       max_depth=5, min_child_weight=1, missing=None, n_estimators=100,\n",
       "       n_jobs=1, nthread=None, objective='binary:logistic', random_state=0,\n",
       "       reg_alpha=0, reg_lambda=1, scale_pos_weight=1, seed=None,\n",
       "       silent=True, subsample=0.7)"
      ]
     },
     "execution_count": 304,
     "metadata": {},
     "output_type": "execute_result"
    }
   ],
   "source": [
    "#Model Building\n",
    "import lightgbm as lgb\n",
    "import xgboost as xgb\n",
    "from ctypes import *\n",
    "from sklearn import datasets, metrics, model_selection\n",
    "from sklearn.model_selection import cross_val_score, StratifiedKFold\n",
    "from sklearn.grid_search import GridSearchCV,RandomizedSearchCV \n",
    "from xgboost.sklearn import XGBClassifier\n",
    "import pickle\n",
    "\n",
    "#Best hyper parameter search\n",
    "\n",
    "ind_params = {'learning_rate': 0.03, 'n_estimators': 500, 'seed':100,\n",
    "             'objective': 'gpu:binary:logistic'}\n",
    "ind_params['nthread'] = 4\n",
    "ind_params['eval_metric'] = 'auc'\n",
    "xgb_model = xgb.XGBClassifier(ind_params)\n",
    "clf = GridSearchCV(xgb_model,\n",
    "                   {'max_depth': [4,5],'subsample': [0.7,0.8], 'colsample_bytree': [0.5,0.6,0.7,0.8],'learning_rate': [0.02,0.03],\n",
    "                    }, verbose=2,cv=2,scoring='roc_auc')\n",
    "clf.fit(train_X, train_Y)\n",
    "clf.best_estimator_"
   ]
  },
  {
   "cell_type": "markdown",
   "metadata": {},
   "source": [
    "###### As we got the the best hyperparameter combination of XGB, we will train the model again with these hyperparameters(max_depth=5,learning_rate=0.03,subsample=0.7 and colsample_bytree=0.8) to maximize model performance. "
   ]
  },
  {
   "cell_type": "code",
   "execution_count": 356,
   "metadata": {},
   "outputs": [
    {
     "name": "stdout",
     "output_type": "stream",
     "text": [
      "[13:02:40] Allocated 0MB on [0] GeForce GTX 1060 with Max-Q Design, 5056MB remaining.\n",
      "[13:02:40] Allocated 0MB on [0] GeForce GTX 1060 with Max-Q Design, 5056MB remaining.\n",
      "[13:02:40] Allocated 1MB on [0] GeForce GTX 1060 with Max-Q Design, 5054MB remaining.\n",
      "[13:02:40] Allocated 0MB on [0] GeForce GTX 1060 with Max-Q Design, 5054MB remaining.\n",
      "[13:02:40] Allocated 0MB on [0] GeForce GTX 1060 with Max-Q Design, 5054MB remaining.\n",
      "[0]\tvalidation_0-auc:0.917706\tvalidation_1-auc:0.917939\n",
      "Multiple eval metrics have been passed: 'validation_1-auc' will be used for early stopping.\n",
      "\n",
      "Will train until validation_1-auc hasn't improved in 15 rounds.\n",
      "[10]\tvalidation_0-auc:0.949789\tvalidation_1-auc:0.940473\n",
      "[20]\tvalidation_0-auc:0.95241\tvalidation_1-auc:0.946482\n",
      "[30]\tvalidation_0-auc:0.957725\tvalidation_1-auc:0.951851\n",
      "[40]\tvalidation_0-auc:0.961312\tvalidation_1-auc:0.957439\n",
      "[50]\tvalidation_0-auc:0.966441\tvalidation_1-auc:0.964736\n",
      "[60]\tvalidation_0-auc:0.971162\tvalidation_1-auc:0.969551\n",
      "[70]\tvalidation_0-auc:0.972226\tvalidation_1-auc:0.970143\n",
      "[80]\tvalidation_0-auc:0.974535\tvalidation_1-auc:0.971761\n",
      "[90]\tvalidation_0-auc:0.97657\tvalidation_1-auc:0.973437\n",
      "[100]\tvalidation_0-auc:0.977361\tvalidation_1-auc:0.974003\n",
      "[110]\tvalidation_0-auc:0.977973\tvalidation_1-auc:0.97434\n",
      "[120]\tvalidation_0-auc:0.978436\tvalidation_1-auc:0.974929\n",
      "[130]\tvalidation_0-auc:0.97882\tvalidation_1-auc:0.975336\n",
      "[140]\tvalidation_0-auc:0.979664\tvalidation_1-auc:0.975886\n",
      "[150]\tvalidation_0-auc:0.9799\tvalidation_1-auc:0.975835\n",
      "Stopping. Best iteration:\n",
      "[135]\tvalidation_0-auc:0.979492\tvalidation_1-auc:0.976126\n",
      "\n",
      "[13:02:41] Allocated 0MB on [0] GeForce GTX 1060 with Max-Q Design, 5058MB remaining.\n"
     ]
    },
    {
     "name": "stderr",
     "output_type": "stream",
     "text": [
      "C:\\Users\\Sourish\\Anaconda3\\lib\\site-packages\\sklearn\\preprocessing\\label.py:151: DeprecationWarning:\n",
      "\n",
      "The truth value of an empty array is ambiguous. Returning False, but in future this will result in an error. Use `array.size > 0` to check that an array is not empty.\n",
      "\n"
     ]
    },
    {
     "name": "stdout",
     "output_type": "stream",
     "text": [
      "Model accuracy is:92.2%\n",
      "Model error rate is:7.799999999999995%\n"
     ]
    }
   ],
   "source": [
    "#classification Model train with best hyperparameters\n",
    "\n",
    "xgb_model = XGBClassifier(n_estimators= 500, max_depth = 5, learning_rate=0.03,subsample=0.7,colsample_bytree=0.8, objective= 'gpu:binary:logistic',silent = False,tree_method = 'gpu_hist')\n",
    "eval_set  = [(train_X,train_Y), (validation_X,validation_Y)]\n",
    "\n",
    "mod_bst = xgb_model.fit(train_X, train_Y,eval_set=eval_set,early_stopping_rounds=15,verbose = 10,\n",
    "        eval_metric=\"auc\")\n",
    "\n",
    "pred = mod_bst.predict(validation_X)\n",
    "\n",
    "#To calculate binery class accuracy and misclassification error\n",
    "print('Model accuracy is:{}%'.format(sum(pred==validation_Y)/validation_Y.shape[0]*100)) \n",
    "print('Model error rate is:{}%'.format((1-sum(pred==validation_Y)/validation_Y.shape[0])*100))"
   ]
  },
  {
   "cell_type": "markdown",
   "metadata": {},
   "source": [
    "#### Let's see AUC of the final model. Also following confusion matrix will give us a rough estimation of class wise misclassification rate and other performance metrics like precision, recall, F1score,support etc."
   ]
  },
  {
   "cell_type": "code",
   "execution_count": 359,
   "metadata": {},
   "outputs": [
    {
     "name": "stdout",
     "output_type": "stream",
     "text": [
      "Confusion Matrix :\n",
      "[[778  31]\n",
      " [ 47 144]]\n",
      "Accuracy Score : 0.922\n",
      "Report : \n",
      "             precision    recall  f1-score   support\n",
      "\n",
      "          0       0.94      0.96      0.95       809\n",
      "          1       0.82      0.75      0.79       191\n",
      "\n",
      "avg / total       0.92      0.92      0.92      1000\n",
      "\n",
      "[13:03:49] Allocated 0MB on [0] GeForce GTX 1060 with Max-Q Design, 5058MB remaining.\n",
      "model auc is: 0.9761259133181033\n"
     ]
    }
   ],
   "source": [
    "#Model per\n",
    "\n",
    "from sklearn.metrics import confusion_matrix \n",
    "from sklearn.metrics import accuracy_score \n",
    "from sklearn.metrics import classification_report\n",
    "results = confusion_matrix(validation_Y, pred) \n",
    "print('Confusion Matrix :')\n",
    "print(results) \n",
    "print('Accuracy Score :',accuracy_score(validation_Y, pred))\n",
    "print('Report : ')\n",
    "print(classification_report(validation_Y, pred)) \n",
    "\n",
    "print('model auc is:', metrics.roc_auc_score(validation_Y, mod_bst.predict_proba(validation_X)[:,1]))"
   ]
  },
  {
   "cell_type": "code",
   "execution_count": 466,
   "metadata": {},
   "outputs": [
    {
     "data": {
      "text/plain": [
       "['classification_model.dat']"
      ]
     },
     "execution_count": 466,
     "metadata": {},
     "output_type": "execute_result"
    }
   ],
   "source": [
    "#Writing prediction and saving the model\n",
    "from sklearn.externals import joblib\n",
    "pd.DataFrame(pred).to_csv('binary_prediction.csv')\n",
    "joblib.dump(mod_bst, 'classification_model.dat') "
   ]
  },
  {
   "cell_type": "markdown",
   "metadata": {},
   "source": [
    "###### We can see which variables are important from variable of importance plot"
   ]
  },
  {
   "cell_type": "code",
   "execution_count": 467,
   "metadata": {},
   "outputs": [
    {
     "data": {
      "image/png": "[encoded data removed]",
      "text/plain": [
       "<Figure size 432x288 with 1 Axes>"
      ]
     },
     "metadata": {},
     "output_type": "display_data"
    }
   ],
   "source": [
    "# plot feature importance\n",
    "from xgboost import plot_importance\n",
    "from matplotlib import pyplot\n",
    "plot_importance(mod_bst)\n",
    "pyplot.show()"
   ]
  },
  {
   "cell_type": "code",
   "execution_count": 468,
   "metadata": {},
   "outputs": [
    {
     "data": {
      "text/plain": [
       "Index(['Avg_DistanceFromResturant', 'Avg_DeliveryTime', 'cust_age',\n",
       "       'amount_per_order', 'order_per_week_overall', 'amount_before_lastweek',\n",
       "       'order_before_lastweek', 'amount_last_3weeks', 'order_last_3weeks',\n",
       "       'amount_per_order_3weeks', 'order_per_week_3weeks',\n",
       "       'order_flag_3weeks_0', 'order_flag_3weeks_1'],\n",
       "      dtype='object')"
      ]
     },
     "execution_count": 468,
     "metadata": {},
     "output_type": "execute_result"
    }
   ],
   "source": [
    "data_model.columns"
   ]
  },
  {
   "cell_type": "markdown",
   "metadata": {},
   "source": [
    "From these plots we can see that ordering history('order_per_week_overall','order_before_lastweek' etc.) and spend behaviour('amount_before_lastweek') play pivotal role in predicting customer's ordering propensity. Also customers' duration with Swiggy is one of the important variables."
   ]
  },
  {
   "cell_type": "markdown",
   "metadata": {},
   "source": [
    "### Now we will build our second stage predictive model- a regression based XGB model to predict no of Orders in last 7 days for individual customer. We will use the same data and follow the same principle of building XGB model except here the dependent variable is '# of Orders in last 7 days' and minimize RMSE(root mean square error)."
   ]
  },
  {
   "cell_type": "code",
   "execution_count": 335,
   "metadata": {},
   "outputs": [
    {
     "name": "stdout",
     "output_type": "stream",
     "text": [
      "Fitting 2 folds for each of 32 candidates, totalling 64 fits\n",
      "[CV] colsample_bytree=0.5, learning_rate=0.03, max_depth=4, subsample=0.7 \n",
      "[CV]  colsample_bytree=0.5, learning_rate=0.03, max_depth=4, subsample=0.7 -   0.2s\n"
     ]
    },
    {
     "name": "stderr",
     "output_type": "stream",
     "text": [
      "[Parallel(n_jobs=1)]: Done   1 out of   1 | elapsed:    0.2s remaining:    0.0s\n"
     ]
    },
    {
     "name": "stdout",
     "output_type": "stream",
     "text": [
      "[CV] colsample_bytree=0.5, learning_rate=0.03, max_depth=4, subsample=0.7 \n",
      "[CV]  colsample_bytree=0.5, learning_rate=0.03, max_depth=4, subsample=0.7 -   0.2s\n",
      "[CV] colsample_bytree=0.5, learning_rate=0.03, max_depth=4, subsample=0.8 \n",
      "[CV]  colsample_bytree=0.5, learning_rate=0.03, max_depth=4, subsample=0.8 -   0.2s\n",
      "[CV] colsample_bytree=0.5, learning_rate=0.03, max_depth=4, subsample=0.8 \n",
      "[CV]  colsample_bytree=0.5, learning_rate=0.03, max_depth=4, subsample=0.8 -   0.1s\n",
      "[CV] colsample_bytree=0.5, learning_rate=0.03, max_depth=5, subsample=0.7 \n",
      "[CV]  colsample_bytree=0.5, learning_rate=0.03, max_depth=5, subsample=0.7 -   0.2s\n",
      "[CV] colsample_bytree=0.5, learning_rate=0.03, max_depth=5, subsample=0.7 \n",
      "[CV]  colsample_bytree=0.5, learning_rate=0.03, max_depth=5, subsample=0.7 -   0.2s\n",
      "[CV] colsample_bytree=0.5, learning_rate=0.03, max_depth=5, subsample=0.8 \n",
      "[CV]  colsample_bytree=0.5, learning_rate=0.03, max_depth=5, subsample=0.8 -   0.2s\n",
      "[CV] colsample_bytree=0.5, learning_rate=0.03, max_depth=5, subsample=0.8 \n",
      "[CV]  colsample_bytree=0.5, learning_rate=0.03, max_depth=5, subsample=0.8 -   0.2s\n",
      "[CV] colsample_bytree=0.5, learning_rate=0.04, max_depth=4, subsample=0.7 \n",
      "[CV]  colsample_bytree=0.5, learning_rate=0.04, max_depth=4, subsample=0.7 -   0.2s\n",
      "[CV] colsample_bytree=0.5, learning_rate=0.04, max_depth=4, subsample=0.7 \n",
      "[CV]  colsample_bytree=0.5, learning_rate=0.04, max_depth=4, subsample=0.7 -   0.2s\n",
      "[CV] colsample_bytree=0.5, learning_rate=0.04, max_depth=4, subsample=0.8 \n",
      "[CV]  colsample_bytree=0.5, learning_rate=0.04, max_depth=4, subsample=0.8 -   0.2s\n",
      "[CV] colsample_bytree=0.5, learning_rate=0.04, max_depth=4, subsample=0.8 \n",
      "[CV]  colsample_bytree=0.5, learning_rate=0.04, max_depth=4, subsample=0.8 -   0.2s\n",
      "[CV] colsample_bytree=0.5, learning_rate=0.04, max_depth=5, subsample=0.7 \n",
      "[CV]  colsample_bytree=0.5, learning_rate=0.04, max_depth=5, subsample=0.7 -   0.2s\n",
      "[CV] colsample_bytree=0.5, learning_rate=0.04, max_depth=5, subsample=0.7 \n",
      "[CV]  colsample_bytree=0.5, learning_rate=0.04, max_depth=5, subsample=0.7 -   0.2s\n",
      "[CV] colsample_bytree=0.5, learning_rate=0.04, max_depth=5, subsample=0.8 \n",
      "[CV]  colsample_bytree=0.5, learning_rate=0.04, max_depth=5, subsample=0.8 -   0.3s\n",
      "[CV] colsample_bytree=0.5, learning_rate=0.04, max_depth=5, subsample=0.8 \n",
      "[CV]  colsample_bytree=0.5, learning_rate=0.04, max_depth=5, subsample=0.8 -   0.2s\n",
      "[CV] colsample_bytree=0.6, learning_rate=0.03, max_depth=4, subsample=0.7 \n",
      "[CV]  colsample_bytree=0.6, learning_rate=0.03, max_depth=4, subsample=0.7 -   0.2s\n",
      "[CV] colsample_bytree=0.6, learning_rate=0.03, max_depth=4, subsample=0.7 \n",
      "[CV]  colsample_bytree=0.6, learning_rate=0.03, max_depth=4, subsample=0.7 -   0.2s\n",
      "[CV] colsample_bytree=0.6, learning_rate=0.03, max_depth=4, subsample=0.8 \n",
      "[CV]  colsample_bytree=0.6, learning_rate=0.03, max_depth=4, subsample=0.8 -   0.2s\n",
      "[CV] colsample_bytree=0.6, learning_rate=0.03, max_depth=4, subsample=0.8 \n",
      "[CV]  colsample_bytree=0.6, learning_rate=0.03, max_depth=4, subsample=0.8 -   0.2s\n",
      "[CV] colsample_bytree=0.6, learning_rate=0.03, max_depth=5, subsample=0.7 \n",
      "[CV]  colsample_bytree=0.6, learning_rate=0.03, max_depth=5, subsample=0.7 -   0.2s\n",
      "[CV] colsample_bytree=0.6, learning_rate=0.03, max_depth=5, subsample=0.7 \n",
      "[CV]  colsample_bytree=0.6, learning_rate=0.03, max_depth=5, subsample=0.7 -   0.3s\n",
      "[CV] colsample_bytree=0.6, learning_rate=0.03, max_depth=5, subsample=0.8 \n",
      "[CV]  colsample_bytree=0.6, learning_rate=0.03, max_depth=5, subsample=0.8 -   0.2s\n",
      "[CV] colsample_bytree=0.6, learning_rate=0.03, max_depth=5, subsample=0.8 \n",
      "[CV]  colsample_bytree=0.6, learning_rate=0.03, max_depth=5, subsample=0.8 -   0.2s\n",
      "[CV] colsample_bytree=0.6, learning_rate=0.04, max_depth=4, subsample=0.7 \n",
      "[CV]  colsample_bytree=0.6, learning_rate=0.04, max_depth=4, subsample=0.7 -   0.2s\n",
      "[CV] colsample_bytree=0.6, learning_rate=0.04, max_depth=4, subsample=0.7 \n",
      "[CV]  colsample_bytree=0.6, learning_rate=0.04, max_depth=4, subsample=0.7 -   0.2s\n",
      "[CV] colsample_bytree=0.6, learning_rate=0.04, max_depth=4, subsample=0.8 \n",
      "[CV]  colsample_bytree=0.6, learning_rate=0.04, max_depth=4, subsample=0.8 -   0.2s\n",
      "[CV] colsample_bytree=0.6, learning_rate=0.04, max_depth=4, subsample=0.8 \n",
      "[CV]  colsample_bytree=0.6, learning_rate=0.04, max_depth=4, subsample=0.8 -   0.2s\n",
      "[CV] colsample_bytree=0.6, learning_rate=0.04, max_depth=5, subsample=0.7 \n",
      "[CV]  colsample_bytree=0.6, learning_rate=0.04, max_depth=5, subsample=0.7 -   0.2s\n",
      "[CV] colsample_bytree=0.6, learning_rate=0.04, max_depth=5, subsample=0.7 \n",
      "[CV]  colsample_bytree=0.6, learning_rate=0.04, max_depth=5, subsample=0.7 -   0.3s\n",
      "[CV] colsample_bytree=0.6, learning_rate=0.04, max_depth=5, subsample=0.8 \n",
      "[CV]  colsample_bytree=0.6, learning_rate=0.04, max_depth=5, subsample=0.8 -   0.2s\n",
      "[CV] colsample_bytree=0.6, learning_rate=0.04, max_depth=5, subsample=0.8 \n",
      "[CV]  colsample_bytree=0.6, learning_rate=0.04, max_depth=5, subsample=0.8 -   0.3s\n",
      "[CV] colsample_bytree=0.7, learning_rate=0.03, max_depth=4, subsample=0.7 \n",
      "[CV]  colsample_bytree=0.7, learning_rate=0.03, max_depth=4, subsample=0.7 -   0.3s\n",
      "[CV] colsample_bytree=0.7, learning_rate=0.03, max_depth=4, subsample=0.7 \n",
      "[CV]  colsample_bytree=0.7, learning_rate=0.03, max_depth=4, subsample=0.7 -   0.2s\n",
      "[CV] colsample_bytree=0.7, learning_rate=0.03, max_depth=4, subsample=0.8 \n",
      "[CV]  colsample_bytree=0.7, learning_rate=0.03, max_depth=4, subsample=0.8 -   0.2s\n",
      "[CV] colsample_bytree=0.7, learning_rate=0.03, max_depth=4, subsample=0.8 \n",
      "[CV]  colsample_bytree=0.7, learning_rate=0.03, max_depth=4, subsample=0.8 -   0.2s\n",
      "[CV] colsample_bytree=0.7, learning_rate=0.03, max_depth=5, subsample=0.7 \n",
      "[CV]  colsample_bytree=0.7, learning_rate=0.03, max_depth=5, subsample=0.7 -   0.3s\n",
      "[CV] colsample_bytree=0.7, learning_rate=0.03, max_depth=5, subsample=0.7 \n",
      "[CV]  colsample_bytree=0.7, learning_rate=0.03, max_depth=5, subsample=0.7 -   0.3s\n",
      "[CV] colsample_bytree=0.7, learning_rate=0.03, max_depth=5, subsample=0.8 \n",
      "[CV]  colsample_bytree=0.7, learning_rate=0.03, max_depth=5, subsample=0.8 -   0.3s\n",
      "[CV] colsample_bytree=0.7, learning_rate=0.03, max_depth=5, subsample=0.8 \n",
      "[CV]  colsample_bytree=0.7, learning_rate=0.03, max_depth=5, subsample=0.8 -   0.2s\n",
      "[CV] colsample_bytree=0.7, learning_rate=0.04, max_depth=4, subsample=0.7 \n",
      "[CV]  colsample_bytree=0.7, learning_rate=0.04, max_depth=4, subsample=0.7 -   0.2s\n",
      "[CV] colsample_bytree=0.7, learning_rate=0.04, max_depth=4, subsample=0.7 \n",
      "[CV]  colsample_bytree=0.7, learning_rate=0.04, max_depth=4, subsample=0.7 -   0.2s\n",
      "[CV] colsample_bytree=0.7, learning_rate=0.04, max_depth=4, subsample=0.8 \n",
      "[CV]  colsample_bytree=0.7, learning_rate=0.04, max_depth=4, subsample=0.8 -   0.2s\n",
      "[CV] colsample_bytree=0.7, learning_rate=0.04, max_depth=4, subsample=0.8 \n",
      "[CV]  colsample_bytree=0.7, learning_rate=0.04, max_depth=4, subsample=0.8 -   0.2s\n",
      "[CV] colsample_bytree=0.7, learning_rate=0.04, max_depth=5, subsample=0.7 \n",
      "[CV]  colsample_bytree=0.7, learning_rate=0.04, max_depth=5, subsample=0.7 -   0.3s\n",
      "[CV] colsample_bytree=0.7, learning_rate=0.04, max_depth=5, subsample=0.7 \n",
      "[CV]  colsample_bytree=0.7, learning_rate=0.04, max_depth=5, subsample=0.7 -   0.3s\n",
      "[CV] colsample_bytree=0.7, learning_rate=0.04, max_depth=5, subsample=0.8 \n",
      "[CV]  colsample_bytree=0.7, learning_rate=0.04, max_depth=5, subsample=0.8 -   0.3s\n",
      "[CV] colsample_bytree=0.7, learning_rate=0.04, max_depth=5, subsample=0.8 \n",
      "[CV]  colsample_bytree=0.7, learning_rate=0.04, max_depth=5, subsample=0.8 -   0.3s\n",
      "[CV] colsample_bytree=0.8, learning_rate=0.03, max_depth=4, subsample=0.7 \n",
      "[CV]  colsample_bytree=0.8, learning_rate=0.03, max_depth=4, subsample=0.7 -   0.2s\n",
      "[CV] colsample_bytree=0.8, learning_rate=0.03, max_depth=4, subsample=0.7 \n",
      "[CV]  colsample_bytree=0.8, learning_rate=0.03, max_depth=4, subsample=0.7 -   0.2s\n",
      "[CV] colsample_bytree=0.8, learning_rate=0.03, max_depth=4, subsample=0.8 \n",
      "[CV]  colsample_bytree=0.8, learning_rate=0.03, max_depth=4, subsample=0.8 -   0.2s\n",
      "[CV] colsample_bytree=0.8, learning_rate=0.03, max_depth=4, subsample=0.8 \n",
      "[CV]  colsample_bytree=0.8, learning_rate=0.03, max_depth=4, subsample=0.8 -   0.2s\n",
      "[CV] colsample_bytree=0.8, learning_rate=0.03, max_depth=5, subsample=0.7 \n",
      "[CV]  colsample_bytree=0.8, learning_rate=0.03, max_depth=5, subsample=0.7 -   0.3s\n",
      "[CV] colsample_bytree=0.8, learning_rate=0.03, max_depth=5, subsample=0.7 \n",
      "[CV]  colsample_bytree=0.8, learning_rate=0.03, max_depth=5, subsample=0.7 -   0.3s\n",
      "[CV] colsample_bytree=0.8, learning_rate=0.03, max_depth=5, subsample=0.8 \n",
      "[CV]  colsample_bytree=0.8, learning_rate=0.03, max_depth=5, subsample=0.8 -   0.3s\n",
      "[CV] colsample_bytree=0.8, learning_rate=0.03, max_depth=5, subsample=0.8 \n",
      "[CV]  colsample_bytree=0.8, learning_rate=0.03, max_depth=5, subsample=0.8 -   0.3s\n",
      "[CV] colsample_bytree=0.8, learning_rate=0.04, max_depth=4, subsample=0.7 \n",
      "[CV]  colsample_bytree=0.8, learning_rate=0.04, max_depth=4, subsample=0.7 -   0.2s\n",
      "[CV] colsample_bytree=0.8, learning_rate=0.04, max_depth=4, subsample=0.7 \n",
      "[CV]  colsample_bytree=0.8, learning_rate=0.04, max_depth=4, subsample=0.7 -   0.2s\n",
      "[CV] colsample_bytree=0.8, learning_rate=0.04, max_depth=4, subsample=0.8 \n",
      "[CV]  colsample_bytree=0.8, learning_rate=0.04, max_depth=4, subsample=0.8 -   0.2s\n",
      "[CV] colsample_bytree=0.8, learning_rate=0.04, max_depth=4, subsample=0.8 \n",
      "[CV]  colsample_bytree=0.8, learning_rate=0.04, max_depth=4, subsample=0.8 -   0.2s\n",
      "[CV] colsample_bytree=0.8, learning_rate=0.04, max_depth=5, subsample=0.7 \n",
      "[CV]  colsample_bytree=0.8, learning_rate=0.04, max_depth=5, subsample=0.7 -   0.3s\n",
      "[CV] colsample_bytree=0.8, learning_rate=0.04, max_depth=5, subsample=0.7 \n",
      "[CV]  colsample_bytree=0.8, learning_rate=0.04, max_depth=5, subsample=0.7 -   0.3s\n",
      "[CV] colsample_bytree=0.8, learning_rate=0.04, max_depth=5, subsample=0.8 \n",
      "[CV]  colsample_bytree=0.8, learning_rate=0.04, max_depth=5, subsample=0.8 -   0.3s\n",
      "[CV] colsample_bytree=0.8, learning_rate=0.04, max_depth=5, subsample=0.8 \n",
      "[CV]  colsample_bytree=0.8, learning_rate=0.04, max_depth=5, subsample=0.8 -   0.3s\n"
     ]
    },
    {
     "name": "stderr",
     "output_type": "stream",
     "text": [
      "[Parallel(n_jobs=1)]: Done  64 out of  64 | elapsed:   21.7s finished\n"
     ]
    },
    {
     "data": {
      "text/plain": [
       "XGBRegressor(base_score=0.5, booster='gbtree', colsample_bylevel=1,\n",
       "       colsample_bytree=0.8, gamma=0, learning_rate=0.04, max_delta_step=0,\n",
       "       max_depth=5, min_child_weight=1, missing=None, n_estimators=100,\n",
       "       n_jobs=1, nthread=None, objective='reg:linear', random_state=0,\n",
       "       reg_alpha=0, reg_lambda=1, scale_pos_weight=1, seed=None,\n",
       "       silent=True, subsample=0.7)"
      ]
     },
     "execution_count": 335,
     "metadata": {},
     "output_type": "execute_result"
    }
   ],
   "source": [
    "#2nd stage regression model- prediction for order per week\n",
    "train_Y,validation_Y = train_test_split(data['# of Orders in last 7 days'], test_size = 0.1, random_state = 20)\n",
    "\n",
    "#Best hyper parameter search\n",
    "\n",
    "ind_params = {'n_estimators': 500, 'seed':100,\n",
    "             'objective': 'gpu:regression'}\n",
    "ind_params['nthread'] = 4\n",
    "ind_params['eval_metric'] = 'rmse'\n",
    "xgb_model = xgb.XGBRegressor(ind_params)\n",
    "clf = GridSearchCV(xgb_model,\n",
    "                   {'max_depth': [4,5],'subsample': [0.7,0.8], 'colsample_bytree': [0.5,0.6,0.7,0.8],'learning_rate': [0.03,0.04],\n",
    "                    }, verbose=2,cv=2,scoring='neg_mean_squared_error')\n",
    "clf.fit(train_X, train_Y)\n",
    "clf.best_estimator_"
   ]
  },
  {
   "cell_type": "markdown",
   "metadata": {},
   "source": [
    "###### As we got the the best hyperparameter combination of XGB, we will train the model again with these hyperparameters(max_depth=5,learning_rate=0.04,subsample=0.7 and colsample_bytree=0.8) to maximize model performance. "
   ]
  },
  {
   "cell_type": "code",
   "execution_count": 382,
   "metadata": {},
   "outputs": [
    {
     "name": "stdout",
     "output_type": "stream",
     "text": [
      "[13:28:26] Allocated 0MB on [0] GeForce GTX 1060 with Max-Q Design, 5050MB remaining.\n",
      "[13:28:26] Allocated 0MB on [0] GeForce GTX 1060 with Max-Q Design, 5050MB remaining.\n",
      "[13:28:26] Allocated 1MB on [0] GeForce GTX 1060 with Max-Q Design, 5048MB remaining.\n",
      "[13:28:26] Allocated 0MB on [0] GeForce GTX 1060 with Max-Q Design, 5048MB remaining.\n",
      "[13:28:26] Allocated 0MB on [0] GeForce GTX 1060 with Max-Q Design, 5048MB remaining.\n",
      "[0]\tvalidation_0-rmse:0.917451\tvalidation_1-rmse:0.790708\n",
      "Multiple eval metrics have been passed: 'validation_1-rmse' will be used for early stopping.\n",
      "\n",
      "Will train until validation_1-rmse hasn't improved in 15 rounds.\n",
      "[10]\tvalidation_0-rmse:0.767426\tvalidation_1-rmse:0.68958\n",
      "[20]\tvalidation_0-rmse:0.685141\tvalidation_1-rmse:0.641341\n",
      "[30]\tvalidation_0-rmse:0.622591\tvalidation_1-rmse:0.609378\n",
      "[40]\tvalidation_0-rmse:0.578932\tvalidation_1-rmse:0.586155\n",
      "[50]\tvalidation_0-rmse:0.544578\tvalidation_1-rmse:0.563907\n",
      "[60]\tvalidation_0-rmse:0.517098\tvalidation_1-rmse:0.549384\n",
      "[70]\tvalidation_0-rmse:0.497427\tvalidation_1-rmse:0.54318\n",
      "[80]\tvalidation_0-rmse:0.480529\tvalidation_1-rmse:0.533664\n",
      "[90]\tvalidation_0-rmse:0.463642\tvalidation_1-rmse:0.5261\n",
      "[100]\tvalidation_0-rmse:0.450646\tvalidation_1-rmse:0.522399\n",
      "[110]\tvalidation_0-rmse:0.435225\tvalidation_1-rmse:0.515996\n",
      "[120]\tvalidation_0-rmse:0.424948\tvalidation_1-rmse:0.513032\n",
      "[130]\tvalidation_0-rmse:0.412109\tvalidation_1-rmse:0.507738\n",
      "[140]\tvalidation_0-rmse:0.401074\tvalidation_1-rmse:0.505552\n",
      "[150]\tvalidation_0-rmse:0.391629\tvalidation_1-rmse:0.504441\n",
      "[160]\tvalidation_0-rmse:0.379082\tvalidation_1-rmse:0.498634\n",
      "[170]\tvalidation_0-rmse:0.36963\tvalidation_1-rmse:0.49635\n",
      "[180]\tvalidation_0-rmse:0.357537\tvalidation_1-rmse:0.489458\n",
      "[190]\tvalidation_0-rmse:0.348188\tvalidation_1-rmse:0.485465\n",
      "[200]\tvalidation_0-rmse:0.338313\tvalidation_1-rmse:0.481521\n",
      "[210]\tvalidation_0-rmse:0.331413\tvalidation_1-rmse:0.479904\n",
      "[220]\tvalidation_0-rmse:0.322712\tvalidation_1-rmse:0.475547\n",
      "[230]\tvalidation_0-rmse:0.315533\tvalidation_1-rmse:0.474185\n",
      "[240]\tvalidation_0-rmse:0.30724\tvalidation_1-rmse:0.468888\n",
      "[250]\tvalidation_0-rmse:0.297308\tvalidation_1-rmse:0.463866\n",
      "[260]\tvalidation_0-rmse:0.287127\tvalidation_1-rmse:0.457147\n",
      "[270]\tvalidation_0-rmse:0.279894\tvalidation_1-rmse:0.454151\n",
      "[280]\tvalidation_0-rmse:0.270865\tvalidation_1-rmse:0.450646\n",
      "[290]\tvalidation_0-rmse:0.262589\tvalidation_1-rmse:0.447653\n",
      "[300]\tvalidation_0-rmse:0.257568\tvalidation_1-rmse:0.447577\n",
      "[310]\tvalidation_0-rmse:0.249445\tvalidation_1-rmse:0.442675\n",
      "[320]\tvalidation_0-rmse:0.242385\tvalidation_1-rmse:0.437882\n",
      "[330]\tvalidation_0-rmse:0.236811\tvalidation_1-rmse:0.434594\n",
      "[340]\tvalidation_0-rmse:0.232668\tvalidation_1-rmse:0.433538\n",
      "[350]\tvalidation_0-rmse:0.226619\tvalidation_1-rmse:0.429582\n",
      "[360]\tvalidation_0-rmse:0.218519\tvalidation_1-rmse:0.425052\n",
      "[370]\tvalidation_0-rmse:0.212718\tvalidation_1-rmse:0.422295\n",
      "[380]\tvalidation_0-rmse:0.206267\tvalidation_1-rmse:0.41908\n",
      "[390]\tvalidation_0-rmse:0.199736\tvalidation_1-rmse:0.415388\n",
      "[400]\tvalidation_0-rmse:0.194397\tvalidation_1-rmse:0.412612\n",
      "[410]\tvalidation_0-rmse:0.189371\tvalidation_1-rmse:0.408659\n",
      "[420]\tvalidation_0-rmse:0.185654\tvalidation_1-rmse:0.408026\n",
      "[430]\tvalidation_0-rmse:0.181636\tvalidation_1-rmse:0.406531\n",
      "[440]\tvalidation_0-rmse:0.176682\tvalidation_1-rmse:0.404187\n",
      "[450]\tvalidation_0-rmse:0.171762\tvalidation_1-rmse:0.403446\n",
      "[460]\tvalidation_0-rmse:0.168604\tvalidation_1-rmse:0.403636\n",
      "[470]\tvalidation_0-rmse:0.164566\tvalidation_1-rmse:0.401764\n",
      "[480]\tvalidation_0-rmse:0.160106\tvalidation_1-rmse:0.399683\n",
      "[490]\tvalidation_0-rmse:0.156319\tvalidation_1-rmse:0.398219\n",
      "[500]\tvalidation_0-rmse:0.153089\tvalidation_1-rmse:0.396424\n",
      "[510]\tvalidation_0-rmse:0.15016\tvalidation_1-rmse:0.395949\n",
      "[520]\tvalidation_0-rmse:0.146691\tvalidation_1-rmse:0.39461\n",
      "[530]\tvalidation_0-rmse:0.144602\tvalidation_1-rmse:0.394459\n",
      "Stopping. Best iteration:\n",
      "[524]\tvalidation_0-rmse:0.145766\tvalidation_1-rmse:0.394042\n",
      "\n",
      "[13:28:31] Allocated 0MB on [0] GeForce GTX 1060 with Max-Q Design, 5052MB remaining.\n",
      "0.3035885\n",
      "0.308\n"
     ]
    }
   ],
   "source": [
    "#regression Model train with best hyperparameters\n",
    "\n",
    "xgb_model = xgb.XGBRegressor(n_estimators= 700, max_depth = 5, learning_rate=0.04,subsample=0.7,colsample_bytree=0.8, objective= 'reg:linear',silent = False,tree_method = 'gpu_hist')\n",
    "eval_set  = [(train_X,train_Y), (validation_X,validation_Y)]\n",
    "\n",
    "mod_bst_regression = xgb_model.fit(train_X, train_Y,eval_set=eval_set,early_stopping_rounds=15,verbose = 10,\n",
    "        eval_metric=\"rmse\")\n",
    "\n",
    "pred_order = mod_bst_regression.predict(validation_X)\n",
    "pred_order = np.where(pred_order < 0,0,pred_order)\n",
    "\n",
    "#Sanity check Actual mean vs. predicted mean\n",
    "print(np.mean(pred_order))\n",
    "print(np.mean(validation_Y))\n",
    "\n",
    "#To calculate multiclass accuracy and misclassification error\n",
    "#print('Model accuracy is:{}%'.format(sum(pred==validation_Y)/validation_Y.shape[0]*100)) \n",
    "#print('Model error rate is:{}%'.format((1-sum(pred==validation_Y)/validation_Y.shape[0])*100))"
   ]
  },
  {
   "cell_type": "markdown",
   "metadata": {},
   "source": [
    "#### Let's assess performance of this second stage model"
   ]
  },
  {
   "cell_type": "code",
   "execution_count": 473,
   "metadata": {},
   "outputs": [
    {
     "name": "stdout",
     "output_type": "stream",
     "text": [
      "RMSE metric for no of order prediction: 0.15523365764058233\n",
      "R2 metric for no of order prediction: 0.7451576369799481\n"
     ]
    }
   ],
   "source": [
    "print('RMSE metric for no of order prediction:',metrics.mean_squared_error(y_pred=pred_order, y_true=validation_Y))\n",
    "print('R2 metric for no of order prediction:',metrics.r2_score(y_pred=pred_order, y_true=validation_Y))"
   ]
  },
  {
   "cell_type": "markdown",
   "metadata": {},
   "source": [
    "#### From the coefficient of determination, denoted as R², we can infer that proportion of the variance in the dependent variable(no of Orders in last 7 days) that is predictable from the independent variables is 74.51%."
   ]
  },
  {
   "cell_type": "code",
   "execution_count": 474,
   "metadata": {},
   "outputs": [
    {
     "data": {
      "text/plain": [
       "['regression_model.dat']"
      ]
     },
     "execution_count": 474,
     "metadata": {},
     "output_type": "execute_result"
    }
   ],
   "source": [
    "#Writing prediction and saving the model\n",
    "from sklearn.externals import joblib\n",
    "pd.DataFrame(pred_order).to_csv('regression_prediction.csv')\n",
    "joblib.dump(mod_bst_regression, 'regression_model.dat') "
   ]
  },
  {
   "cell_type": "code",
   "execution_count": 475,
   "metadata": {},
   "outputs": [
    {
     "data": {
      "image/png": "[encoded data removed]",
      "text/plain": [
       "<Figure size 432x288 with 1 Axes>"
      ]
     },
     "metadata": {},
     "output_type": "display_data"
    }
   ],
   "source": [
    "# plot feature importance\n",
    "\n",
    "from xgboost import plot_importance\n",
    "from matplotlib import pyplot\n",
    "plot_importance(mod_bst_regression)\n",
    "pyplot.show()"
   ]
  },
  {
   "cell_type": "markdown",
   "metadata": {},
   "source": [
    "#### Almost same type of features emerged as important to predict no of Orders in last 7 days "
   ]
  },
  {
   "cell_type": "markdown",
   "metadata": {},
   "source": [
    "#### Now it's time to predict the final metric- customer spend using following formula: \n",
    "\n",
    "###### customer spend in last 7 days = (prediction of order in last 7 days) X (Prediction of no of order) X (amount_per_order in overall)"
   ]
  },
  {
   "cell_type": "code",
   "execution_count": 487,
   "metadata": {},
   "outputs": [
    {
     "name": "stderr",
     "output_type": "stream",
     "text": [
      "C:\\Users\\Sourish\\Anaconda3\\lib\\site-packages\\ipykernel_launcher.py:1: SettingWithCopyWarning:\n",
      "\n",
      "\n",
      "A value is trying to be set on a copy of a slice from a DataFrame.\n",
      "Try using .loc[row_indexer,col_indexer] = value instead\n",
      "\n",
      "See the caveats in the documentation: http://pandas.pydata.org/pandas-docs/stable/indexing.html#indexing-view-versus-copy\n",
      "\n",
      "C:\\Users\\Sourish\\Anaconda3\\lib\\site-packages\\ipykernel_launcher.py:2: SettingWithCopyWarning:\n",
      "\n",
      "\n",
      "A value is trying to be set on a copy of a slice from a DataFrame.\n",
      "Try using .loc[row_indexer,col_indexer] = value instead\n",
      "\n",
      "See the caveats in the documentation: http://pandas.pydata.org/pandas-docs/stable/indexing.html#indexing-view-versus-copy\n",
      "\n",
      "C:\\Users\\Sourish\\Anaconda3\\lib\\site-packages\\ipykernel_launcher.py:3: SettingWithCopyWarning:\n",
      "\n",
      "\n",
      "A value is trying to be set on a copy of a slice from a DataFrame.\n",
      "Try using .loc[row_indexer,col_indexer] = value instead\n",
      "\n",
      "See the caveats in the documentation: http://pandas.pydata.org/pandas-docs/stable/indexing.html#indexing-view-versus-copy\n",
      "\n"
     ]
    },
    {
     "name": "stdout",
     "output_type": "stream",
     "text": [
      "      predicted_amount_last_week\n",
      "9957                   33.500000\n",
      "1687                    0.000000\n",
      "2116                    0.000000\n",
      "231                     0.000000\n",
      "2780                    0.000000\n",
      "4578                    0.000000\n",
      "8260                    0.000000\n",
      "8557                  207.913043\n",
      "9523                    0.000000\n",
      "802                     0.000000\n",
      "R2 metric for this prediction: 0.6831519357549813\n"
     ]
    }
   ],
   "source": [
    "validation_cust['predicted_no_of_order_last_week'] = pred * np.round(pred_order) ## make order quanity as integer\n",
    "validation_cust['predicted_order_flag'] = pred \n",
    "validation_cust['predicted_amount_last_week'] = validation_cust['predicted_no_of_order_last_week'] * (validation_cust['amount_per_order'] + 10**-9)\n",
    "print(validation_cust[['predicted_amount_last_week']].head(10))\n",
    "print('R2 metric for this prediction:',metrics.r2_score(y_pred=validation_cust['predicted_amount_last_week'], y_true=validation_cust['Amount in last 7 days']))\n",
    "validation_cust.to_csv('final_prediction.csv', index=False)"
   ]
  },
  {
   "cell_type": "markdown",
   "metadata": {},
   "source": [
    "#### So overall it's a decent prediction explaining 68.32% variance in the dependent variable that is predictable from the independent variables. Also as expected in majorly customers past ordering pattern, spend behaviour and customers duration with Swiggy play pivotal role to predict customer's spend in next 7 days."
   ]
  },
  {
   "cell_type": "markdown",
   "metadata": {},
   "source": [
    "##                                        Thank You For Your Attention ! Any Questions"
   ]
  },
  {
   "cell_type": "code",
   "execution_count": null,
   "metadata": {},
   "outputs": [],
   "source": []
  }
 ],
 "metadata": {
  "kernelspec": {
   "display_name": "Python 3",
   "language": "python",
   "name": "python3"
  },
  "language_info": {
   "codemirror_mode": {
    "name": "ipython",
    "version": 3
   },
   "file_extension": ".py",
   "mimetype": "text/x-python",
   "name": "python",
   "nbconvert_exporter": "python",
   "pygments_lexer": "ipython3",
   "version": "3.6.5"
  }
 },
 "nbformat": 4,
 "nbformat_minor": 2
}
